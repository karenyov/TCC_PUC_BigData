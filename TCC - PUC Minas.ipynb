{
 "cells": [
  {
   "cell_type": "markdown",
   "metadata": {},
   "source": [
    "# TCC PUC - Ciência de Dados e Big Data\n"
   ]
  },
  {
   "cell_type": "markdown",
   "metadata": {},
   "source": [
    "# 1. Definição do Problema"
   ]
  },
  {
   "cell_type": "markdown",
   "metadata": {},
   "source": [
    "Será feito uma coleta e análise de dados referente a anúncio de carros a venda.\n",
    "Nosso objetivo é encontrar atributos com relevancia para identificar e classificar o anúncio de venda como um Bom Negócio ou um Mau Negócio para o comprador.\n",
    "\n",
    "Os dados serão tratados e trabalhados e posteriormente aplicaremos algoritmos Machine Learning para verificar quais atributos tem maior relevancia na atribuição de um Bom Negócio ou um Mau Negócio para o usuário."
   ]
  },
  {
   "cell_type": "markdown",
   "metadata": {},
   "source": [
    "# 2. Coleta dos Dados"
   ]
  },
  {
   "cell_type": "markdown",
   "metadata": {},
   "source": [
    "## 2.1 Extração dos Dados"
   ]
  },
  {
   "cell_type": "markdown",
   "metadata": {},
   "source": [
    "Nessa seção será realizados todos os tratamentos necessários para obter os dados da fonte."
   ]
  },
  {
   "cell_type": "code",
   "execution_count": 1,
   "metadata": {
    "scrolled": true
   },
   "outputs": [
    {
     "data": {
      "text/html": [
       "<div>\n",
       "<style scoped>\n",
       "    .dataframe tbody tr th:only-of-type {\n",
       "        vertical-align: middle;\n",
       "    }\n",
       "\n",
       "    .dataframe tbody tr th {\n",
       "        vertical-align: top;\n",
       "    }\n",
       "\n",
       "    .dataframe thead th {\n",
       "        text-align: right;\n",
       "    }\n",
       "</style>\n",
       "<table border=\"1\" class=\"dataframe\">\n",
       "  <thead>\n",
       "    <tr style=\"text-align: right;\">\n",
       "      <th></th>\n",
       "      <th>UniqueId</th>\n",
       "      <th>PhotoPath</th>\n",
       "      <th>ListingType</th>\n",
       "      <th>ProductCode</th>\n",
       "      <th>Channels</th>\n",
       "      <th>LongComment</th>\n",
       "      <th>FipePercent</th>\n",
       "      <th>IPVApaid</th>\n",
       "      <th>Licensed</th>\n",
       "      <th>Warranty</th>\n",
       "      <th>...</th>\n",
       "      <th>Seller.DealerScore</th>\n",
       "      <th>Seller.CarDelivery</th>\n",
       "      <th>Seller.TrocaComTroco</th>\n",
       "      <th>Seller.ExceededPlan</th>\n",
       "      <th>Prices.Price</th>\n",
       "      <th>Prices.SearchPrice</th>\n",
       "      <th>GoodDeal</th>\n",
       "      <th>VipAutopago</th>\n",
       "      <th>Prices.OldPrice</th>\n",
       "      <th>Media.Videos</th>\n",
       "    </tr>\n",
       "  </thead>\n",
       "  <tbody>\n",
       "    <tr>\n",
       "      <th>0</th>\n",
       "      <td>34283122</td>\n",
       "      <td>2020\\202009\\20200925\\land-rover-discovery-spor...</td>\n",
       "      <td>U</td>\n",
       "      <td>674</td>\n",
       "      <td>[{'id': 48, 'Value': 'Webmotors'}]</td>\n",
       "      <td>? LAND ROVER - DIESEL\\n???????????????\\n?? Lan...</td>\n",
       "      <td>107.0</td>\n",
       "      <td>True</td>\n",
       "      <td>True</td>\n",
       "      <td>True</td>\n",
       "      <td>...</td>\n",
       "      <td>0</td>\n",
       "      <td>False</td>\n",
       "      <td>False</td>\n",
       "      <td>False</td>\n",
       "      <td>219999.0</td>\n",
       "      <td>219999.0</td>\n",
       "      <td>NaN</td>\n",
       "      <td>NaN</td>\n",
       "      <td>NaN</td>\n",
       "      <td>NaN</td>\n",
       "    </tr>\n",
       "    <tr>\n",
       "      <th>1</th>\n",
       "      <td>9532158</td>\n",
       "      <td>2021\\202103\\20210306\\hyundai-azera-3.3-mpfi-gl...</td>\n",
       "      <td>U</td>\n",
       "      <td>674</td>\n",
       "      <td>[{'id': 48, 'Value': 'Webmotors'}]</td>\n",
       "      <td>NaN</td>\n",
       "      <td>84.0</td>\n",
       "      <td>True</td>\n",
       "      <td>True</td>\n",
       "      <td>False</td>\n",
       "      <td>...</td>\n",
       "      <td>0</td>\n",
       "      <td>False</td>\n",
       "      <td>False</td>\n",
       "      <td>False</td>\n",
       "      <td>26500.0</td>\n",
       "      <td>26500.0</td>\n",
       "      <td>NaN</td>\n",
       "      <td>NaN</td>\n",
       "      <td>NaN</td>\n",
       "      <td>NaN</td>\n",
       "    </tr>\n",
       "    <tr>\n",
       "      <th>2</th>\n",
       "      <td>18996954</td>\n",
       "      <td>2017\\201703\\20170301\\land-rover-discovery-4-3....</td>\n",
       "      <td>U</td>\n",
       "      <td>674</td>\n",
       "      <td>[{'id': 48, 'Value': 'Webmotors'}]</td>\n",
       "      <td>Veiculo com 7 lugares, único dono, 4 pneus nov...</td>\n",
       "      <td>135.0</td>\n",
       "      <td>True</td>\n",
       "      <td>True</td>\n",
       "      <td>False</td>\n",
       "      <td>...</td>\n",
       "      <td>0</td>\n",
       "      <td>False</td>\n",
       "      <td>False</td>\n",
       "      <td>False</td>\n",
       "      <td>159900.0</td>\n",
       "      <td>159900.0</td>\n",
       "      <td>NaN</td>\n",
       "      <td>NaN</td>\n",
       "      <td>NaN</td>\n",
       "      <td>NaN</td>\n",
       "    </tr>\n",
       "    <tr>\n",
       "      <th>3</th>\n",
       "      <td>35205229</td>\n",
       "      <td>2020\\202012\\20201213\\land-rover-discovery-4-5....</td>\n",
       "      <td>U</td>\n",
       "      <td>674</td>\n",
       "      <td>[{'id': 48, 'Value': 'Webmotors'}]</td>\n",
       "      <td>NaN</td>\n",
       "      <td>82.0</td>\n",
       "      <td>True</td>\n",
       "      <td>True</td>\n",
       "      <td>False</td>\n",
       "      <td>...</td>\n",
       "      <td>0</td>\n",
       "      <td>False</td>\n",
       "      <td>False</td>\n",
       "      <td>False</td>\n",
       "      <td>75500.0</td>\n",
       "      <td>75500.0</td>\n",
       "      <td>NaN</td>\n",
       "      <td>NaN</td>\n",
       "      <td>NaN</td>\n",
       "      <td>NaN</td>\n",
       "    </tr>\n",
       "    <tr>\n",
       "      <th>4</th>\n",
       "      <td>36073749</td>\n",
       "      <td>2021\\202103\\20210301\\volkswagen-jetta-2.0-tsi-...</td>\n",
       "      <td>U</td>\n",
       "      <td>674</td>\n",
       "      <td>[{'id': 48, 'Value': 'Webmotors'}]</td>\n",
       "      <td>NaN</td>\n",
       "      <td>88.0</td>\n",
       "      <td>True</td>\n",
       "      <td>True</td>\n",
       "      <td>False</td>\n",
       "      <td>...</td>\n",
       "      <td>0</td>\n",
       "      <td>False</td>\n",
       "      <td>False</td>\n",
       "      <td>False</td>\n",
       "      <td>45000.0</td>\n",
       "      <td>45000.0</td>\n",
       "      <td>True</td>\n",
       "      <td>NaN</td>\n",
       "      <td>NaN</td>\n",
       "      <td>NaN</td>\n",
       "    </tr>\n",
       "  </tbody>\n",
       "</table>\n",
       "<p>5 rows × 46 columns</p>\n",
       "</div>"
      ],
      "text/plain": [
       "   UniqueId                                          PhotoPath ListingType  \\\n",
       "0  34283122  2020\\202009\\20200925\\land-rover-discovery-spor...           U   \n",
       "1   9532158  2021\\202103\\20210306\\hyundai-azera-3.3-mpfi-gl...           U   \n",
       "2  18996954  2017\\201703\\20170301\\land-rover-discovery-4-3....           U   \n",
       "3  35205229  2020\\202012\\20201213\\land-rover-discovery-4-5....           U   \n",
       "4  36073749  2021\\202103\\20210301\\volkswagen-jetta-2.0-tsi-...           U   \n",
       "\n",
       "  ProductCode                            Channels  \\\n",
       "0         674  [{'id': 48, 'Value': 'Webmotors'}]   \n",
       "1         674  [{'id': 48, 'Value': 'Webmotors'}]   \n",
       "2         674  [{'id': 48, 'Value': 'Webmotors'}]   \n",
       "3         674  [{'id': 48, 'Value': 'Webmotors'}]   \n",
       "4         674  [{'id': 48, 'Value': 'Webmotors'}]   \n",
       "\n",
       "                                         LongComment  FipePercent  IPVApaid  \\\n",
       "0  ? LAND ROVER - DIESEL\\n???????????????\\n?? Lan...        107.0      True   \n",
       "1                                                NaN         84.0      True   \n",
       "2  Veiculo com 7 lugares, único dono, 4 pneus nov...        135.0      True   \n",
       "3                                                NaN         82.0      True   \n",
       "4                                                NaN         88.0      True   \n",
       "\n",
       "   Licensed  Warranty  ...  Seller.DealerScore Seller.CarDelivery  \\\n",
       "0      True      True  ...                   0              False   \n",
       "1      True     False  ...                   0              False   \n",
       "2      True     False  ...                   0              False   \n",
       "3      True     False  ...                   0              False   \n",
       "4      True     False  ...                   0              False   \n",
       "\n",
       "  Seller.TrocaComTroco  Seller.ExceededPlan Prices.Price  Prices.SearchPrice  \\\n",
       "0                False                False     219999.0            219999.0   \n",
       "1                False                False      26500.0             26500.0   \n",
       "2                False                False     159900.0            159900.0   \n",
       "3                False                False      75500.0             75500.0   \n",
       "4                False                False      45000.0             45000.0   \n",
       "\n",
       "  GoodDeal  VipAutopago Prices.OldPrice Media.Videos  \n",
       "0      NaN          NaN             NaN          NaN  \n",
       "1      NaN          NaN             NaN          NaN  \n",
       "2      NaN          NaN             NaN          NaN  \n",
       "3      NaN          NaN             NaN          NaN  \n",
       "4     True          NaN             NaN          NaN  \n",
       "\n",
       "[5 rows x 46 columns]"
      ]
     },
     "execution_count": 1,
     "metadata": {},
     "output_type": "execute_result"
    }
   ],
   "source": [
    "import json\n",
    "import pandas as pd # lib pandas\n",
    "import numpy as np # lib numpy\n",
    "import datetime # lib datetime\n",
    "\n",
    "import matplotlib.pyplot as plt # lib para utilização dos gráficos\n",
    "import seaborn as sns # lib para exibir dados estátisticos\n",
    "\n",
    "# Necessário para visualização automática dos gráficos no Jupyter\n",
    "%matplotlib inline\n",
    "\n",
    "from pathlib import Path\n",
    "from pandas import json_normalize # package for flattening json in pandas df\n",
    "\n",
    "# lib sklearn\n",
    "from sklearn.model_selection import train_test_split # lib para definir os dados de treino e de teste\n",
    "from sklearn.neighbors import KNeighborsClassifier # lib classe KNeighborsClassifier - Classificação \n",
    "from sklearn.metrics import accuracy_score, classification_report, confusion_matrix, roc_auc_score,roc_curve\n",
    "from sklearn import preprocessing # Import LabelEncoder\n",
    "from sklearn.model_selection import GridSearchCV\n",
    "from sklearn.ensemble import RandomForestClassifier # lib classe RandomForestClassifier - Classificação \n",
    "from yellowbrick.classifier import ClassificationReport\n",
    "\n",
    "# Abrindo arquivo json de coleta dos dados na fonte \n",
    "p = Path(r'C:\\Users\\karen\\Desktop\\TCC_PUC_BigData\\data\\data-cars.json')\n",
    "\n",
    "# read json\n",
    "with p.open('r', encoding='utf-8') as f:\n",
    "    data = json.loads(f.read())\n",
    "                      \n",
    "df_cars = json_normalize(data) # converte json\n",
    "df_cars.head() # exibe DataFrame"
   ]
  },
  {
   "cell_type": "code",
   "execution_count": 2,
   "metadata": {},
   "outputs": [
    {
     "data": {
      "text/html": [
       "<div>\n",
       "<style scoped>\n",
       "    .dataframe tbody tr th:only-of-type {\n",
       "        vertical-align: middle;\n",
       "    }\n",
       "\n",
       "    .dataframe tbody tr th {\n",
       "        vertical-align: top;\n",
       "    }\n",
       "\n",
       "    .dataframe thead th {\n",
       "        text-align: right;\n",
       "    }\n",
       "</style>\n",
       "<table border=\"1\" class=\"dataframe\">\n",
       "  <thead>\n",
       "    <tr style=\"text-align: right;\">\n",
       "      <th></th>\n",
       "      <th>Fipe</th>\n",
       "      <th>UniqueId</th>\n",
       "    </tr>\n",
       "  </thead>\n",
       "  <tbody>\n",
       "    <tr>\n",
       "      <th>0</th>\n",
       "      <td>206373.0</td>\n",
       "      <td>34283122.0</td>\n",
       "    </tr>\n",
       "    <tr>\n",
       "      <th>1</th>\n",
       "      <td>31520.0</td>\n",
       "      <td>9532158.0</td>\n",
       "    </tr>\n",
       "    <tr>\n",
       "      <th>2</th>\n",
       "      <td>118552.0</td>\n",
       "      <td>18996954.0</td>\n",
       "    </tr>\n",
       "    <tr>\n",
       "      <th>3</th>\n",
       "      <td>91943.0</td>\n",
       "      <td>35205229.0</td>\n",
       "    </tr>\n",
       "    <tr>\n",
       "      <th>4</th>\n",
       "      <td>51408.0</td>\n",
       "      <td>36073749.0</td>\n",
       "    </tr>\n",
       "  </tbody>\n",
       "</table>\n",
       "</div>"
      ],
      "text/plain": [
       "       Fipe    UniqueId\n",
       "0  206373.0  34283122.0\n",
       "1   31520.0   9532158.0\n",
       "2  118552.0  18996954.0\n",
       "3   91943.0  35205229.0\n",
       "4   51408.0  36073749.0"
      ]
     },
     "execution_count": 2,
     "metadata": {},
     "output_type": "execute_result"
    }
   ],
   "source": [
    "# Abrindo arquivo json de coleta dos dados da tabela Fipe\n",
    "p = Path(r'C:\\Users\\karen\\Desktop\\TCC_PUC_BigData\\data\\data-cars-fipe.json')\n",
    "\n",
    "# read json\n",
    "with p.open('r', encoding='utf-8') as f:\n",
    "    data = json.loads(f.read())\n",
    "                      \n",
    "df_cars_fipe = json_normalize(data)  # converte json\n",
    "df_cars_fipe.head() # exibe DataFrame"
   ]
  },
  {
   "cell_type": "code",
   "execution_count": 3,
   "metadata": {},
   "outputs": [
    {
     "name": "stdout",
     "output_type": "stream",
     "text": [
      "<class 'pandas.core.frame.DataFrame'>\n",
      "RangeIndex: 11976 entries, 0 to 11975\n",
      "Data columns (total 46 columns):\n",
      " #   Column                           Non-Null Count  Dtype  \n",
      "---  ------                           --------------  -----  \n",
      " 0   UniqueId                         11976 non-null  int64  \n",
      " 1   PhotoPath                        11886 non-null  object \n",
      " 2   ListingType                      11976 non-null  object \n",
      " 3   ProductCode                      11976 non-null  object \n",
      " 4   Channels                         11976 non-null  object \n",
      " 5   LongComment                      11159 non-null  object \n",
      " 6   FipePercent                      11265 non-null  float64\n",
      " 7   IPVApaid                         11976 non-null  bool   \n",
      " 8   Licensed                         11976 non-null  bool   \n",
      " 9   Warranty                         11976 non-null  bool   \n",
      " 10  OnlyOwner                        11976 non-null  bool   \n",
      " 11  Media.Photos                     11886 non-null  object \n",
      " 12  Specification.Title              11976 non-null  object \n",
      " 13  Specification.Make.id            11976 non-null  int64  \n",
      " 14  Specification.Make.Value         11976 non-null  object \n",
      " 15  Specification.Model.id           11976 non-null  int64  \n",
      " 16  Specification.Model.Value        11976 non-null  object \n",
      " 17  Specification.Version.id         11976 non-null  int64  \n",
      " 18  Specification.Version.Value      11976 non-null  object \n",
      " 19  Specification.YearFabrication    11976 non-null  object \n",
      " 20  Specification.YearModel          11976 non-null  float64\n",
      " 21  Specification.Odometer           11976 non-null  float64\n",
      " 22  Specification.Transmission       11976 non-null  object \n",
      " 23  Specification.NumberPorts        11976 non-null  object \n",
      " 24  Specification.BodyType           11976 non-null  object \n",
      " 25  Specification.VehicleAttributes  11838 non-null  object \n",
      " 26  Specification.Armored            11976 non-null  object \n",
      " 27  Specification.Color.IdPrimary    11976 non-null  object \n",
      " 28  Specification.Color.Primary      11976 non-null  object \n",
      " 29  Seller.Id                        11976 non-null  int64  \n",
      " 30  Seller.SellerType                11976 non-null  object \n",
      " 31  Seller.City                      11976 non-null  object \n",
      " 32  Seller.State                     11976 non-null  object \n",
      " 33  Seller.AdType.id                 11976 non-null  int64  \n",
      " 34  Seller.AdType.Value              11976 non-null  object \n",
      " 35  Seller.BudgetInvestimento        11976 non-null  int64  \n",
      " 36  Seller.DealerScore               11976 non-null  int64  \n",
      " 37  Seller.CarDelivery               11976 non-null  bool   \n",
      " 38  Seller.TrocaComTroco             11976 non-null  bool   \n",
      " 39  Seller.ExceededPlan              11976 non-null  bool   \n",
      " 40  Prices.Price                     11976 non-null  float64\n",
      " 41  Prices.SearchPrice               11976 non-null  float64\n",
      " 42  GoodDeal                         746 non-null    object \n",
      " 43  VipAutopago                      12 non-null     object \n",
      " 44  Prices.OldPrice                  13 non-null     float64\n",
      " 45  Media.Videos                     1 non-null      object \n",
      "dtypes: bool(7), float64(6), int64(8), object(25)\n",
      "memory usage: 3.6+ MB\n"
     ]
    }
   ],
   "source": [
    "# Visualizando informações sobre os dados antes da formatação\n",
    "df_cars.info()"
   ]
  },
  {
   "cell_type": "code",
   "execution_count": 4,
   "metadata": {},
   "outputs": [
    {
     "name": "stdout",
     "output_type": "stream",
     "text": [
      "<class 'pandas.core.frame.DataFrame'>\n",
      "RangeIndex: 11976 entries, 0 to 11975\n",
      "Data columns (total 2 columns):\n",
      " #   Column    Non-Null Count  Dtype  \n",
      "---  ------    --------------  -----  \n",
      " 0   Fipe      11976 non-null  float64\n",
      " 1   UniqueId  11920 non-null  float64\n",
      "dtypes: float64(2)\n",
      "memory usage: 187.2 KB\n"
     ]
    }
   ],
   "source": [
    "# Visualizando informações sobre os dados antes da formatação\n",
    "df_cars_fipe.info()"
   ]
  },
  {
   "cell_type": "markdown",
   "metadata": {},
   "source": [
    "Unindos datasets: anúncios de vendas de carro junto ao dataset de informações detalhadas do carro."
   ]
  },
  {
   "cell_type": "code",
   "execution_count": 5,
   "metadata": {},
   "outputs": [
    {
     "data": {
      "text/html": [
       "<div>\n",
       "<style scoped>\n",
       "    .dataframe tbody tr th:only-of-type {\n",
       "        vertical-align: middle;\n",
       "    }\n",
       "\n",
       "    .dataframe tbody tr th {\n",
       "        vertical-align: top;\n",
       "    }\n",
       "\n",
       "    .dataframe thead th {\n",
       "        text-align: right;\n",
       "    }\n",
       "</style>\n",
       "<table border=\"1\" class=\"dataframe\">\n",
       "  <thead>\n",
       "    <tr style=\"text-align: right;\">\n",
       "      <th></th>\n",
       "      <th>UniqueId</th>\n",
       "      <th>PhotoPath</th>\n",
       "      <th>ListingType</th>\n",
       "      <th>ProductCode</th>\n",
       "      <th>Channels</th>\n",
       "      <th>LongComment</th>\n",
       "      <th>FipePercent</th>\n",
       "      <th>IPVApaid</th>\n",
       "      <th>Licensed</th>\n",
       "      <th>Warranty</th>\n",
       "      <th>...</th>\n",
       "      <th>Seller.CarDelivery</th>\n",
       "      <th>Seller.TrocaComTroco</th>\n",
       "      <th>Seller.ExceededPlan</th>\n",
       "      <th>Prices.Price</th>\n",
       "      <th>Prices.SearchPrice</th>\n",
       "      <th>GoodDeal</th>\n",
       "      <th>VipAutopago</th>\n",
       "      <th>Prices.OldPrice</th>\n",
       "      <th>Media.Videos</th>\n",
       "      <th>Fipe</th>\n",
       "    </tr>\n",
       "  </thead>\n",
       "  <tbody>\n",
       "    <tr>\n",
       "      <th>0</th>\n",
       "      <td>34283122</td>\n",
       "      <td>2020\\202009\\20200925\\land-rover-discovery-spor...</td>\n",
       "      <td>U</td>\n",
       "      <td>674</td>\n",
       "      <td>[{'id': 48, 'Value': 'Webmotors'}]</td>\n",
       "      <td>? LAND ROVER - DIESEL\\n???????????????\\n?? Lan...</td>\n",
       "      <td>107.0</td>\n",
       "      <td>True</td>\n",
       "      <td>True</td>\n",
       "      <td>True</td>\n",
       "      <td>...</td>\n",
       "      <td>False</td>\n",
       "      <td>False</td>\n",
       "      <td>False</td>\n",
       "      <td>219999.0</td>\n",
       "      <td>219999.0</td>\n",
       "      <td>NaN</td>\n",
       "      <td>NaN</td>\n",
       "      <td>NaN</td>\n",
       "      <td>NaN</td>\n",
       "      <td>206373.0</td>\n",
       "    </tr>\n",
       "    <tr>\n",
       "      <th>1</th>\n",
       "      <td>9532158</td>\n",
       "      <td>2021\\202103\\20210306\\hyundai-azera-3.3-mpfi-gl...</td>\n",
       "      <td>U</td>\n",
       "      <td>674</td>\n",
       "      <td>[{'id': 48, 'Value': 'Webmotors'}]</td>\n",
       "      <td>NaN</td>\n",
       "      <td>84.0</td>\n",
       "      <td>True</td>\n",
       "      <td>True</td>\n",
       "      <td>False</td>\n",
       "      <td>...</td>\n",
       "      <td>False</td>\n",
       "      <td>False</td>\n",
       "      <td>False</td>\n",
       "      <td>26500.0</td>\n",
       "      <td>26500.0</td>\n",
       "      <td>NaN</td>\n",
       "      <td>NaN</td>\n",
       "      <td>NaN</td>\n",
       "      <td>NaN</td>\n",
       "      <td>31520.0</td>\n",
       "    </tr>\n",
       "    <tr>\n",
       "      <th>2</th>\n",
       "      <td>18996954</td>\n",
       "      <td>2017\\201703\\20170301\\land-rover-discovery-4-3....</td>\n",
       "      <td>U</td>\n",
       "      <td>674</td>\n",
       "      <td>[{'id': 48, 'Value': 'Webmotors'}]</td>\n",
       "      <td>Veiculo com 7 lugares, único dono, 4 pneus nov...</td>\n",
       "      <td>135.0</td>\n",
       "      <td>True</td>\n",
       "      <td>True</td>\n",
       "      <td>False</td>\n",
       "      <td>...</td>\n",
       "      <td>False</td>\n",
       "      <td>False</td>\n",
       "      <td>False</td>\n",
       "      <td>159900.0</td>\n",
       "      <td>159900.0</td>\n",
       "      <td>NaN</td>\n",
       "      <td>NaN</td>\n",
       "      <td>NaN</td>\n",
       "      <td>NaN</td>\n",
       "      <td>118552.0</td>\n",
       "    </tr>\n",
       "    <tr>\n",
       "      <th>3</th>\n",
       "      <td>35205229</td>\n",
       "      <td>2020\\202012\\20201213\\land-rover-discovery-4-5....</td>\n",
       "      <td>U</td>\n",
       "      <td>674</td>\n",
       "      <td>[{'id': 48, 'Value': 'Webmotors'}]</td>\n",
       "      <td>NaN</td>\n",
       "      <td>82.0</td>\n",
       "      <td>True</td>\n",
       "      <td>True</td>\n",
       "      <td>False</td>\n",
       "      <td>...</td>\n",
       "      <td>False</td>\n",
       "      <td>False</td>\n",
       "      <td>False</td>\n",
       "      <td>75500.0</td>\n",
       "      <td>75500.0</td>\n",
       "      <td>NaN</td>\n",
       "      <td>NaN</td>\n",
       "      <td>NaN</td>\n",
       "      <td>NaN</td>\n",
       "      <td>91943.0</td>\n",
       "    </tr>\n",
       "    <tr>\n",
       "      <th>4</th>\n",
       "      <td>36073749</td>\n",
       "      <td>2021\\202103\\20210301\\volkswagen-jetta-2.0-tsi-...</td>\n",
       "      <td>U</td>\n",
       "      <td>674</td>\n",
       "      <td>[{'id': 48, 'Value': 'Webmotors'}]</td>\n",
       "      <td>NaN</td>\n",
       "      <td>88.0</td>\n",
       "      <td>True</td>\n",
       "      <td>True</td>\n",
       "      <td>False</td>\n",
       "      <td>...</td>\n",
       "      <td>False</td>\n",
       "      <td>False</td>\n",
       "      <td>False</td>\n",
       "      <td>45000.0</td>\n",
       "      <td>45000.0</td>\n",
       "      <td>True</td>\n",
       "      <td>NaN</td>\n",
       "      <td>NaN</td>\n",
       "      <td>NaN</td>\n",
       "      <td>51408.0</td>\n",
       "    </tr>\n",
       "  </tbody>\n",
       "</table>\n",
       "<p>5 rows × 47 columns</p>\n",
       "</div>"
      ],
      "text/plain": [
       "   UniqueId                                          PhotoPath ListingType  \\\n",
       "0  34283122  2020\\202009\\20200925\\land-rover-discovery-spor...           U   \n",
       "1   9532158  2021\\202103\\20210306\\hyundai-azera-3.3-mpfi-gl...           U   \n",
       "2  18996954  2017\\201703\\20170301\\land-rover-discovery-4-3....           U   \n",
       "3  35205229  2020\\202012\\20201213\\land-rover-discovery-4-5....           U   \n",
       "4  36073749  2021\\202103\\20210301\\volkswagen-jetta-2.0-tsi-...           U   \n",
       "\n",
       "  ProductCode                            Channels  \\\n",
       "0         674  [{'id': 48, 'Value': 'Webmotors'}]   \n",
       "1         674  [{'id': 48, 'Value': 'Webmotors'}]   \n",
       "2         674  [{'id': 48, 'Value': 'Webmotors'}]   \n",
       "3         674  [{'id': 48, 'Value': 'Webmotors'}]   \n",
       "4         674  [{'id': 48, 'Value': 'Webmotors'}]   \n",
       "\n",
       "                                         LongComment  FipePercent  IPVApaid  \\\n",
       "0  ? LAND ROVER - DIESEL\\n???????????????\\n?? Lan...        107.0      True   \n",
       "1                                                NaN         84.0      True   \n",
       "2  Veiculo com 7 lugares, único dono, 4 pneus nov...        135.0      True   \n",
       "3                                                NaN         82.0      True   \n",
       "4                                                NaN         88.0      True   \n",
       "\n",
       "   Licensed  Warranty  ...  Seller.CarDelivery Seller.TrocaComTroco  \\\n",
       "0      True      True  ...               False                False   \n",
       "1      True     False  ...               False                False   \n",
       "2      True     False  ...               False                False   \n",
       "3      True     False  ...               False                False   \n",
       "4      True     False  ...               False                False   \n",
       "\n",
       "  Seller.ExceededPlan  Prices.Price Prices.SearchPrice  GoodDeal VipAutopago  \\\n",
       "0               False      219999.0           219999.0       NaN         NaN   \n",
       "1               False       26500.0            26500.0       NaN         NaN   \n",
       "2               False      159900.0           159900.0       NaN         NaN   \n",
       "3               False       75500.0            75500.0       NaN         NaN   \n",
       "4               False       45000.0            45000.0      True         NaN   \n",
       "\n",
       "   Prices.OldPrice Media.Videos      Fipe  \n",
       "0              NaN          NaN  206373.0  \n",
       "1              NaN          NaN   31520.0  \n",
       "2              NaN          NaN  118552.0  \n",
       "3              NaN          NaN   91943.0  \n",
       "4              NaN          NaN   51408.0  \n",
       "\n",
       "[5 rows x 47 columns]"
      ]
     },
     "execution_count": 5,
     "metadata": {},
     "output_type": "execute_result"
    }
   ],
   "source": [
    "#Unindo os datasets infos detalhes do carro\n",
    "df_cars = df_cars.join(df_cars_fipe.set_index('UniqueId')[['Fipe']], on='UniqueId')\n",
    "df_cars.head()"
   ]
  },
  {
   "cell_type": "markdown",
   "metadata": {},
   "source": [
    "# 3. Tratamento dos Dados"
   ]
  },
  {
   "cell_type": "markdown",
   "metadata": {},
   "source": [
    "Nessa seção é analisado os dados que são necessários para continuidade do trabalho.\n",
    "Os dados necessários serão formatados e/ou utilizado filtros se necessário.\n",
    "Os dados que não forem necessários serão removidos."
   ]
  },
  {
   "cell_type": "markdown",
   "metadata": {},
   "source": [
    "## 3.1 Dados dos Carros"
   ]
  },
  {
   "cell_type": "markdown",
   "metadata": {},
   "source": [
    "Removendo colunas desnecessárias"
   ]
  },
  {
   "cell_type": "code",
   "execution_count": 6,
   "metadata": {},
   "outputs": [],
   "source": [
    "del df_cars['Channels'] # Coluna Channels - Canal de origem da venda\n",
    "del df_cars['ListingType'] # Coluna Tipo de Listagem\n",
    "del df_cars['ProductCode'] # Coluna Código Produto\n",
    "del df_cars['PhotoPath'] # Coluna PhotoPath\n",
    "del df_cars['FipePercent'] # Coluna FipePercent\n",
    "del df_cars['LongComment'] # Coluna LongComment - comentários do vendedor\n",
    "\n",
    "del df_cars['VipAutopago'] # Coluna VipAutopago\n",
    "\n",
    "# Group - Media\n",
    "del df_cars['Media.Photos'] # Coluna Media.Photos\n",
    "del df_cars['Media.Videos'] # Coluna Media.Videos\n",
    "\n",
    "# Group - Seller\n",
    "del df_cars['Seller.Id'] # Coluna tipo de venda Id\n",
    "del df_cars['Seller.SellerType'] # Coluna tipo de venda Id (PF, PJ)\n",
    "del df_cars['Seller.AdType.id'] # Coluna tipo de venda Id (Pessoa Física, Pessoa Jurídica)\n",
    "del df_cars['Seller.AdType.Value'] # Coluna tipo de venda Value (Pessoa Física, Pessoa Jurídica)\n",
    "del df_cars['Seller.CarDelivery'] # Coluna Entrega do Carro (true, false)\n",
    "del df_cars['Seller.TrocaComTroco'] # Coluna Seller.TrocaComTroco\n",
    "del df_cars['Seller.BudgetInvestimento'] # Coluna BudgetInvestimento\n",
    "del df_cars['Seller.DealerScore'] # Coluna DealerScore\n",
    "del df_cars['Seller.City'] # Coluna Seller.City\n",
    "del df_cars['Seller.State'] # Coluna Seller.State\n",
    "del df_cars['Seller.ExceededPlan'] # Coluna Seller.ExceededPlan\n",
    "#del df_cars['Prices.OldPrice'] # Coluna Prices.OldPrice\n",
    "\n",
    "# Group - Prices\n",
    "del df_cars['Prices.SearchPrice'] # Coluna Prices.SearchPrice valor utilizado no campo busca do site\n",
    "\n",
    "# Group - Specification\n",
    "del df_cars['Specification.NumberPorts'] # Coluna NumberPorts\n",
    "del df_cars['Specification.Transmission'] # Coluna Transmission\n",
    "del df_cars['Specification.Make.id'] # Coluna Specification.Make.id\n",
    "del df_cars['Specification.Version.id'] # Coluna Specification.Version.id\n",
    "del df_cars['Specification.Version.Value'] # Coluna Specification.Version.Value\n",
    "del df_cars['Specification.Model.id'] # Coluna Especificação do Modelo Id\n",
    "del df_cars['Specification.Color.IdPrimary'] # Coluna Specification.Color.IdPrimary id da cor\n",
    "del df_cars['Specification.VehicleAttributes'] # Coluna Specification.VehicleAttributes (atributos já organizados em forma de colunas)\n",
    "del df_cars['Specification.YearFabrication'] # Coluna Specification.YearFabrication, consideraremos o ano do Modelo do carro\n",
    "del df_cars['Specification.BodyType'] # Coluna BodyType\n",
    "del df_cars['Specification.Title'] # Coluna Title"
   ]
  },
  {
   "cell_type": "markdown",
   "metadata": {},
   "source": [
    "Renomeando o nome das colunas"
   ]
  },
  {
   "cell_type": "code",
   "execution_count": 7,
   "metadata": {},
   "outputs": [],
   "source": [
    "df_cars.rename({'Specification.Make.Value': 'Make',\n",
    "                'Specification.Model.Value': 'Model',\n",
    "                'Specification.Version.Value': 'Version',\n",
    "                'Specification.YearModel': 'YearModel',\n",
    "                'Specification.YearFabrication': 'YearFabrication',\n",
    "                'Specification.Odometer': 'Odometer',\n",
    "                'Specification.Armored': 'Armored',\n",
    "                'Prices.Price': 'Price',\n",
    "                'Prices.OldPrice': 'OldPrice',\n",
    "                'Specification.Color.Primary': 'Color',\n",
    "                'Specification.Armored': 'Armored',\n",
    "               }, axis=1, inplace=True)"
   ]
  },
  {
   "cell_type": "markdown",
   "metadata": {},
   "source": [
    "Formatando os dados"
   ]
  },
  {
   "cell_type": "code",
   "execution_count": 8,
   "metadata": {},
   "outputs": [
    {
     "name": "stdout",
     "output_type": "stream",
     "text": [
      "<class 'pandas.core.frame.DataFrame'>\n",
      "RangeIndex: 11976 entries, 0 to 11975\n",
      "Data columns (total 2 columns):\n",
      " #   Column    Non-Null Count  Dtype  \n",
      "---  ------    --------------  -----  \n",
      " 0   Fipe      11976 non-null  float64\n",
      " 1   UniqueId  11920 non-null  float64\n",
      "dtypes: float64(2)\n",
      "memory usage: 187.2 KB\n"
     ]
    }
   ],
   "source": [
    "df_cars_fipe.info()"
   ]
  },
  {
   "cell_type": "markdown",
   "metadata": {},
   "source": [
    "Realizando a conversão do tipo dos dados"
   ]
  },
  {
   "cell_type": "code",
   "execution_count": 9,
   "metadata": {},
   "outputs": [],
   "source": [
    "# Convertendo o ano de Float64 para Int64 (obs: o ano modelo está vindo como float 1 casa decimal)\n",
    "df_cars['YearModel'] = df_cars['YearModel'].astype('int64')\n",
    "\n",
    "# Convertendo dados que estão como object para string\n",
    "df_cars['Make'] = df_cars['Make'].astype('string')\n",
    "df_cars['Model'] = df_cars['Model'].astype('string')\n",
    "df_cars['Armored'] = df_cars['Armored'].astype('string')"
   ]
  },
  {
   "cell_type": "markdown",
   "metadata": {},
   "source": [
    "Verificando se existe algum anúncio onde não foi possível obter o valor Fipe do carro. Ou seja, está com o valor zerado. "
   ]
  },
  {
   "cell_type": "code",
   "execution_count": 10,
   "metadata": {},
   "outputs": [
    {
     "data": {
      "text/plain": [
       "711"
      ]
     },
     "execution_count": 10,
     "metadata": {},
     "output_type": "execute_result"
    }
   ],
   "source": [
    "df_cars['Fipe'][df_cars['Fipe'] == 0].count()"
   ]
  },
  {
   "cell_type": "markdown",
   "metadata": {},
   "source": [
    "Vamos considerar apenas os carros que estão com o valor Fipe acima de zero. Ou seja foi encontrado um valor válido de tabela Fipe do carro."
   ]
  },
  {
   "cell_type": "code",
   "execution_count": 11,
   "metadata": {},
   "outputs": [],
   "source": [
    "# Seleciona os carros que estão com o valor Fipe em <= 0\n",
    "df_cars_fipe_ok = df_cars[(df_cars['Fipe'].isnull()) | (df_cars['Fipe'] <= 0)]\n",
    "\n",
    "# Remove os registros que estão com o Fipe <= e considera apenas os que estão com Fipe > 0\n",
    "df_cars = df_cars.drop(df_cars_fipe_ok.index, axis=0) "
   ]
  },
  {
   "cell_type": "markdown",
   "metadata": {},
   "source": [
    "Caso a coluna OldPrice estiver nula, vamos considerar que não houve um ajuste de preço no anúncio e colocaremos o OldPrice com o mesmo valor de Price."
   ]
  },
  {
   "cell_type": "code",
   "execution_count": 12,
   "metadata": {},
   "outputs": [
    {
     "name": "stderr",
     "output_type": "stream",
     "text": [
      "C:\\Users\\karen\\anaconda3\\lib\\site-packages\\pandas\\core\\indexing.py:670: SettingWithCopyWarning: \n",
      "A value is trying to be set on a copy of a slice from a DataFrame\n",
      "\n",
      "See the caveats in the documentation: https://pandas.pydata.org/pandas-docs/stable/user_guide/indexing.html#returning-a-view-versus-a-copy\n",
      "  iloc._setitem_with_indexer(indexer, value)\n"
     ]
    }
   ],
   "source": [
    "df_cars['OldPrice'].loc[df_cars['OldPrice'].isnull()] = df_cars['Price']"
   ]
  },
  {
   "cell_type": "markdown",
   "metadata": {},
   "source": [
    "Caso a coluna GoodDeal estiver nula, vamos considerar False."
   ]
  },
  {
   "cell_type": "code",
   "execution_count": 13,
   "metadata": {},
   "outputs": [],
   "source": [
    "df_cars['GoodDeal'].loc[df_cars['GoodDeal'].isnull()] = False"
   ]
  },
  {
   "cell_type": "markdown",
   "metadata": {},
   "source": [
    "Exibindo número de registros nulos em cada coluna. Neste caso os valores estão zerados, pois não existe nenhum valor nulo nas colunas."
   ]
  },
  {
   "cell_type": "code",
   "execution_count": 14,
   "metadata": {
    "scrolled": true
   },
   "outputs": [
    {
     "data": {
      "text/plain": [
       "UniqueId     0\n",
       "IPVApaid     0\n",
       "Licensed     0\n",
       "Warranty     0\n",
       "OnlyOwner    0\n",
       "Make         0\n",
       "Model        0\n",
       "YearModel    0\n",
       "Odometer     0\n",
       "Armored      0\n",
       "Color        0\n",
       "Price        0\n",
       "GoodDeal     0\n",
       "OldPrice     0\n",
       "Fipe         0\n",
       "dtype: int64"
      ]
     },
     "execution_count": 14,
     "metadata": {},
     "output_type": "execute_result"
    }
   ],
   "source": [
    "#Verifica se existe algum valor nulo após o tratamento dos dados\n",
    "df_cars.isnull().sum()"
   ]
  },
  {
   "cell_type": "markdown",
   "metadata": {},
   "source": [
    "Exibindo informações sobre o dataframe como nome da coluna, quantidade de registros nulos, quantidade de registros que não estão nulos e o tipo da coluna."
   ]
  },
  {
   "cell_type": "code",
   "execution_count": 15,
   "metadata": {},
   "outputs": [
    {
     "name": "stdout",
     "output_type": "stream",
     "text": [
      "<class 'pandas.core.frame.DataFrame'>\n",
      "Int64Index: 11209 entries, 0 to 11975\n",
      "Data columns (total 15 columns):\n",
      " #   Column     Non-Null Count  Dtype  \n",
      "---  ------     --------------  -----  \n",
      " 0   UniqueId   11209 non-null  int64  \n",
      " 1   IPVApaid   11209 non-null  bool   \n",
      " 2   Licensed   11209 non-null  bool   \n",
      " 3   Warranty   11209 non-null  bool   \n",
      " 4   OnlyOwner  11209 non-null  bool   \n",
      " 5   Make       11209 non-null  string \n",
      " 6   Model      11209 non-null  string \n",
      " 7   YearModel  11209 non-null  int64  \n",
      " 8   Odometer   11209 non-null  float64\n",
      " 9   Armored    11209 non-null  string \n",
      " 10  Color      11209 non-null  object \n",
      " 11  Price      11209 non-null  float64\n",
      " 12  GoodDeal   11209 non-null  object \n",
      " 13  OldPrice   11209 non-null  float64\n",
      " 14  Fipe       11209 non-null  float64\n",
      "dtypes: bool(4), float64(4), int64(2), object(2), string(3)\n",
      "memory usage: 1.4+ MB\n"
     ]
    }
   ],
   "source": [
    "# Visualizando informações sobre os dados já formatados\n",
    "df_cars.info()"
   ]
  },
  {
   "cell_type": "markdown",
   "metadata": {},
   "source": [
    "Exibindo informações sobre o tipo de cada coluna."
   ]
  },
  {
   "cell_type": "code",
   "execution_count": 16,
   "metadata": {},
   "outputs": [
    {
     "data": {
      "text/plain": [
       "UniqueId       int64\n",
       "IPVApaid        bool\n",
       "Licensed        bool\n",
       "Warranty        bool\n",
       "OnlyOwner       bool\n",
       "Make          string\n",
       "Model         string\n",
       "YearModel      int64\n",
       "Odometer     float64\n",
       "Armored       string\n",
       "Color         object\n",
       "Price        float64\n",
       "GoodDeal      object\n",
       "OldPrice     float64\n",
       "Fipe         float64\n",
       "dtype: object"
      ]
     },
     "execution_count": 16,
     "metadata": {},
     "output_type": "execute_result"
    }
   ],
   "source": [
    "# Visualizando informações sobre os dados já formatados (tipos de dados)\n",
    "df_cars.dtypes"
   ]
  },
  {
   "cell_type": "markdown",
   "metadata": {},
   "source": [
    "# 4. Análise e Exploração dos Dados "
   ]
  },
  {
   "cell_type": "markdown",
   "metadata": {},
   "source": [
    "Nessa seção será feito uma análise sobre os dados coletados"
   ]
  },
  {
   "cell_type": "markdown",
   "metadata": {},
   "source": [
    "## 4.1 Analisando os Dados"
   ]
  },
  {
   "cell_type": "markdown",
   "metadata": {},
   "source": [
    "Exibindo a dimensão do DataFrame. Logo percebe-se que teremos 11209 linhas e 15 colunas."
   ]
  },
  {
   "cell_type": "code",
   "execution_count": 17,
   "metadata": {},
   "outputs": [
    {
     "data": {
      "text/plain": [
       "(11209, 15)"
      ]
     },
     "execution_count": 17,
     "metadata": {},
     "output_type": "execute_result"
    }
   ],
   "source": [
    "df_cars.shape"
   ]
  },
  {
   "cell_type": "markdown",
   "metadata": {},
   "source": [
    "Exibe o valor total de carros que estão abaixo da tabela Fipe e IPVA Pago."
   ]
  },
  {
   "cell_type": "code",
   "execution_count": 18,
   "metadata": {},
   "outputs": [
    {
     "data": {
      "text/plain": [
       "1304"
      ]
     },
     "execution_count": 18,
     "metadata": {},
     "output_type": "execute_result"
    }
   ],
   "source": [
    "# Carros que estão abaixo da tabela FIPE e IPVA Pago\n",
    "cars = (df_cars['Price'] <= df_cars['Fipe']) & (df_cars['IPVApaid'])\n",
    "\n",
    "# Utilizando a função shape para pegar o tamanho de linhas do DataFrame com o filtro de carros\n",
    "df_cars[cars].shape[0]"
   ]
  },
  {
   "cell_type": "code",
   "execution_count": 19,
   "metadata": {},
   "outputs": [
    {
     "data": {
      "text/plain": [
       "9138"
      ]
     },
     "execution_count": 19,
     "metadata": {},
     "output_type": "execute_result"
    }
   ],
   "source": [
    "# Carros que estão acima da tabela FIPE \n",
    "cars = (df_cars['Price'] > df_cars['Fipe'])\n",
    "\n",
    "# Utilizando a função shape para pegar o tamanho de linhas do DataFrame com o filtro de carros\n",
    "df_cars[cars].shape[0]"
   ]
  },
  {
   "cell_type": "markdown",
   "metadata": {},
   "source": [
    "Exibe as colunas Fipe e Price dos carros que estão acima da tabela FIPE"
   ]
  },
  {
   "cell_type": "code",
   "execution_count": 20,
   "metadata": {},
   "outputs": [
    {
     "data": {
      "text/html": [
       "<div>\n",
       "<style scoped>\n",
       "    .dataframe tbody tr th:only-of-type {\n",
       "        vertical-align: middle;\n",
       "    }\n",
       "\n",
       "    .dataframe tbody tr th {\n",
       "        vertical-align: top;\n",
       "    }\n",
       "\n",
       "    .dataframe thead th {\n",
       "        text-align: right;\n",
       "    }\n",
       "</style>\n",
       "<table border=\"1\" class=\"dataframe\">\n",
       "  <thead>\n",
       "    <tr style=\"text-align: right;\">\n",
       "      <th></th>\n",
       "      <th>Fipe</th>\n",
       "      <th>Price</th>\n",
       "    </tr>\n",
       "  </thead>\n",
       "  <tbody>\n",
       "    <tr>\n",
       "      <th>0</th>\n",
       "      <td>206373.0</td>\n",
       "      <td>219999.0</td>\n",
       "    </tr>\n",
       "    <tr>\n",
       "      <th>2</th>\n",
       "      <td>118552.0</td>\n",
       "      <td>159900.0</td>\n",
       "    </tr>\n",
       "    <tr>\n",
       "      <th>7</th>\n",
       "      <td>25991.0</td>\n",
       "      <td>29900.0</td>\n",
       "    </tr>\n",
       "    <tr>\n",
       "      <th>9</th>\n",
       "      <td>95229.0</td>\n",
       "      <td>115000.0</td>\n",
       "    </tr>\n",
       "    <tr>\n",
       "      <th>13</th>\n",
       "      <td>126460.0</td>\n",
       "      <td>134900.0</td>\n",
       "    </tr>\n",
       "    <tr>\n",
       "      <th>...</th>\n",
       "      <td>...</td>\n",
       "      <td>...</td>\n",
       "    </tr>\n",
       "    <tr>\n",
       "      <th>11970</th>\n",
       "      <td>58464.0</td>\n",
       "      <td>65990.0</td>\n",
       "    </tr>\n",
       "    <tr>\n",
       "      <th>11972</th>\n",
       "      <td>98242.0</td>\n",
       "      <td>118880.0</td>\n",
       "    </tr>\n",
       "    <tr>\n",
       "      <th>11973</th>\n",
       "      <td>48609.0</td>\n",
       "      <td>53990.0</td>\n",
       "    </tr>\n",
       "    <tr>\n",
       "      <th>11974</th>\n",
       "      <td>38175.0</td>\n",
       "      <td>42290.0</td>\n",
       "    </tr>\n",
       "    <tr>\n",
       "      <th>11975</th>\n",
       "      <td>40421.0</td>\n",
       "      <td>45190.0</td>\n",
       "    </tr>\n",
       "  </tbody>\n",
       "</table>\n",
       "<p>9138 rows × 2 columns</p>\n",
       "</div>"
      ],
      "text/plain": [
       "           Fipe     Price\n",
       "0      206373.0  219999.0\n",
       "2      118552.0  159900.0\n",
       "7       25991.0   29900.0\n",
       "9       95229.0  115000.0\n",
       "13     126460.0  134900.0\n",
       "...         ...       ...\n",
       "11970   58464.0   65990.0\n",
       "11972   98242.0  118880.0\n",
       "11973   48609.0   53990.0\n",
       "11974   38175.0   42290.0\n",
       "11975   40421.0   45190.0\n",
       "\n",
       "[9138 rows x 2 columns]"
      ]
     },
     "execution_count": 20,
     "metadata": {},
     "output_type": "execute_result"
    }
   ],
   "source": [
    "# Carros que estão acima da tabela FIPE\n",
    "cars = (df_cars['Price'] > df_cars['Fipe']) \n",
    "df_cars[cars][['Fipe', 'Price']]"
   ]
  },
  {
   "cell_type": "markdown",
   "metadata": {},
   "source": [
    "Criando colunas PriceFipeOk e Year>10Years que auxiliará na verificação se o carro é ou não um bom negócio"
   ]
  },
  {
   "cell_type": "code",
   "execution_count": 21,
   "metadata": {},
   "outputs": [
    {
     "data": {
      "text/html": [
       "<div>\n",
       "<style scoped>\n",
       "    .dataframe tbody tr th:only-of-type {\n",
       "        vertical-align: middle;\n",
       "    }\n",
       "\n",
       "    .dataframe tbody tr th {\n",
       "        vertical-align: top;\n",
       "    }\n",
       "\n",
       "    .dataframe thead th {\n",
       "        text-align: right;\n",
       "    }\n",
       "</style>\n",
       "<table border=\"1\" class=\"dataframe\">\n",
       "  <thead>\n",
       "    <tr style=\"text-align: right;\">\n",
       "      <th></th>\n",
       "      <th>UniqueId</th>\n",
       "      <th>IPVApaid</th>\n",
       "      <th>Licensed</th>\n",
       "      <th>Warranty</th>\n",
       "      <th>OnlyOwner</th>\n",
       "      <th>Make</th>\n",
       "      <th>Model</th>\n",
       "      <th>YearModel</th>\n",
       "      <th>Odometer</th>\n",
       "      <th>Armored</th>\n",
       "      <th>Color</th>\n",
       "      <th>Price</th>\n",
       "      <th>GoodDeal</th>\n",
       "      <th>OldPrice</th>\n",
       "      <th>Fipe</th>\n",
       "      <th>PriceFipeOk</th>\n",
       "      <th>Year&gt;10Years</th>\n",
       "    </tr>\n",
       "  </thead>\n",
       "  <tbody>\n",
       "    <tr>\n",
       "      <th>0</th>\n",
       "      <td>34283122</td>\n",
       "      <td>True</td>\n",
       "      <td>True</td>\n",
       "      <td>True</td>\n",
       "      <td>True</td>\n",
       "      <td>LAND ROVER</td>\n",
       "      <td>DISCOVERY SPORT</td>\n",
       "      <td>2018</td>\n",
       "      <td>23000.0</td>\n",
       "      <td>N</td>\n",
       "      <td>Cinza</td>\n",
       "      <td>219999.0</td>\n",
       "      <td>False</td>\n",
       "      <td>219999.0</td>\n",
       "      <td>206373.0</td>\n",
       "      <td>False</td>\n",
       "      <td>False</td>\n",
       "    </tr>\n",
       "    <tr>\n",
       "      <th>1</th>\n",
       "      <td>9532158</td>\n",
       "      <td>True</td>\n",
       "      <td>True</td>\n",
       "      <td>False</td>\n",
       "      <td>True</td>\n",
       "      <td>HYUNDAI</td>\n",
       "      <td>AZERA</td>\n",
       "      <td>2010</td>\n",
       "      <td>71496.0</td>\n",
       "      <td>N</td>\n",
       "      <td>Preto</td>\n",
       "      <td>26500.0</td>\n",
       "      <td>False</td>\n",
       "      <td>26500.0</td>\n",
       "      <td>31520.0</td>\n",
       "      <td>True</td>\n",
       "      <td>True</td>\n",
       "    </tr>\n",
       "    <tr>\n",
       "      <th>2</th>\n",
       "      <td>18996954</td>\n",
       "      <td>True</td>\n",
       "      <td>True</td>\n",
       "      <td>False</td>\n",
       "      <td>True</td>\n",
       "      <td>LAND ROVER</td>\n",
       "      <td>DISCOVERY 4</td>\n",
       "      <td>2013</td>\n",
       "      <td>97411.0</td>\n",
       "      <td>N</td>\n",
       "      <td>Preto</td>\n",
       "      <td>159900.0</td>\n",
       "      <td>False</td>\n",
       "      <td>159900.0</td>\n",
       "      <td>118552.0</td>\n",
       "      <td>False</td>\n",
       "      <td>False</td>\n",
       "    </tr>\n",
       "    <tr>\n",
       "      <th>3</th>\n",
       "      <td>35205229</td>\n",
       "      <td>True</td>\n",
       "      <td>True</td>\n",
       "      <td>False</td>\n",
       "      <td>True</td>\n",
       "      <td>LAND ROVER</td>\n",
       "      <td>DISCOVERY 4</td>\n",
       "      <td>2011</td>\n",
       "      <td>107200.0</td>\n",
       "      <td>S</td>\n",
       "      <td>Preto</td>\n",
       "      <td>75500.0</td>\n",
       "      <td>False</td>\n",
       "      <td>75500.0</td>\n",
       "      <td>91943.0</td>\n",
       "      <td>True</td>\n",
       "      <td>False</td>\n",
       "    </tr>\n",
       "    <tr>\n",
       "      <th>4</th>\n",
       "      <td>36073749</td>\n",
       "      <td>True</td>\n",
       "      <td>True</td>\n",
       "      <td>False</td>\n",
       "      <td>True</td>\n",
       "      <td>VOLKSWAGEN</td>\n",
       "      <td>JETTA</td>\n",
       "      <td>2012</td>\n",
       "      <td>92000.0</td>\n",
       "      <td>N</td>\n",
       "      <td>Branco</td>\n",
       "      <td>45000.0</td>\n",
       "      <td>True</td>\n",
       "      <td>45000.0</td>\n",
       "      <td>51408.0</td>\n",
       "      <td>True</td>\n",
       "      <td>False</td>\n",
       "    </tr>\n",
       "  </tbody>\n",
       "</table>\n",
       "</div>"
      ],
      "text/plain": [
       "   UniqueId  IPVApaid  Licensed  Warranty  OnlyOwner        Make  \\\n",
       "0  34283122      True      True      True       True  LAND ROVER   \n",
       "1   9532158      True      True     False       True     HYUNDAI   \n",
       "2  18996954      True      True     False       True  LAND ROVER   \n",
       "3  35205229      True      True     False       True  LAND ROVER   \n",
       "4  36073749      True      True     False       True  VOLKSWAGEN   \n",
       "\n",
       "             Model  YearModel  Odometer Armored   Color     Price GoodDeal  \\\n",
       "0  DISCOVERY SPORT       2018   23000.0       N   Cinza  219999.0    False   \n",
       "1            AZERA       2010   71496.0       N   Preto   26500.0    False   \n",
       "2      DISCOVERY 4       2013   97411.0       N   Preto  159900.0    False   \n",
       "3      DISCOVERY 4       2011  107200.0       S   Preto   75500.0    False   \n",
       "4            JETTA       2012   92000.0       N  Branco   45000.0     True   \n",
       "\n",
       "   OldPrice      Fipe  PriceFipeOk  Year>10Years  \n",
       "0  219999.0  206373.0        False         False  \n",
       "1   26500.0   31520.0         True          True  \n",
       "2  159900.0  118552.0        False         False  \n",
       "3   75500.0   91943.0         True         False  \n",
       "4   45000.0   51408.0         True         False  "
      ]
     },
     "execution_count": 21,
     "metadata": {},
     "output_type": "execute_result"
    }
   ],
   "source": [
    "# Essa coluna identificará se o valor do carro está acima ou abaixo do valor da tabela Fipe (True-sim, False-não)\n",
    "df_cars['PriceFipeOk'] = (df_cars['Price'] <= df_cars['Fipe']) \n",
    "\n",
    "# Essa coluna identificará se o veículo tem mais de 10 anos (True- sim, False-não)\n",
    "now = datetime.datetime.now() # Pega a data atual \n",
    "\n",
    "df_cars['Year>10Years'] = (now.year - df_cars['YearModel'] > 10) # verifica se a diferença do ano é superior a 10\n",
    "\n",
    "df_cars.head()"
   ]
  },
  {
   "cell_type": "markdown",
   "metadata": {},
   "source": [
    "Exibindo Resumo Estatístico do DataFrame carros.\n",
    "\n",
    "Teremos como resultado um DataFrame com as colunas count a frequência; mean a média; std o desvio padrão; min\n",
    " valor mínimo; 25% o primeiro quartio, 50% a mediana, 75% o terceiro quartio e max, o valor máximo."
   ]
  },
  {
   "cell_type": "code",
   "execution_count": 22,
   "metadata": {
    "scrolled": true
   },
   "outputs": [
    {
     "data": {
      "text/html": [
       "<div>\n",
       "<style scoped>\n",
       "    .dataframe tbody tr th:only-of-type {\n",
       "        vertical-align: middle;\n",
       "    }\n",
       "\n",
       "    .dataframe tbody tr th {\n",
       "        vertical-align: top;\n",
       "    }\n",
       "\n",
       "    .dataframe thead th {\n",
       "        text-align: right;\n",
       "    }\n",
       "</style>\n",
       "<table border=\"1\" class=\"dataframe\">\n",
       "  <thead>\n",
       "    <tr style=\"text-align: right;\">\n",
       "      <th></th>\n",
       "      <th>UniqueId</th>\n",
       "      <th>YearModel</th>\n",
       "      <th>Odometer</th>\n",
       "      <th>Price</th>\n",
       "      <th>OldPrice</th>\n",
       "      <th>Fipe</th>\n",
       "    </tr>\n",
       "  </thead>\n",
       "  <tbody>\n",
       "    <tr>\n",
       "      <th>count</th>\n",
       "      <td>11209.00</td>\n",
       "      <td>11209.00</td>\n",
       "      <td>11209.00</td>\n",
       "      <td>11209.00</td>\n",
       "      <td>11209.00</td>\n",
       "      <td>11209.00</td>\n",
       "    </tr>\n",
       "    <tr>\n",
       "      <th>mean</th>\n",
       "      <td>34810534.04</td>\n",
       "      <td>2016.55</td>\n",
       "      <td>59045.87</td>\n",
       "      <td>110560.34</td>\n",
       "      <td>110561.41</td>\n",
       "      <td>83973.96</td>\n",
       "    </tr>\n",
       "    <tr>\n",
       "      <th>std</th>\n",
       "      <td>3719016.56</td>\n",
       "      <td>5.08</td>\n",
       "      <td>56160.48</td>\n",
       "      <td>998500.56</td>\n",
       "      <td>998500.50</td>\n",
       "      <td>95139.47</td>\n",
       "    </tr>\n",
       "    <tr>\n",
       "      <th>min</th>\n",
       "      <td>4369950.00</td>\n",
       "      <td>1985.00</td>\n",
       "      <td>0.00</td>\n",
       "      <td>6000.00</td>\n",
       "      <td>6000.00</td>\n",
       "      <td>2380.00</td>\n",
       "    </tr>\n",
       "    <tr>\n",
       "      <th>25%</th>\n",
       "      <td>35396411.00</td>\n",
       "      <td>2014.00</td>\n",
       "      <td>26980.00</td>\n",
       "      <td>47790.00</td>\n",
       "      <td>47790.00</td>\n",
       "      <td>43647.00</td>\n",
       "    </tr>\n",
       "    <tr>\n",
       "      <th>50%</th>\n",
       "      <td>35904828.00</td>\n",
       "      <td>2019.00</td>\n",
       "      <td>47064.00</td>\n",
       "      <td>66900.00</td>\n",
       "      <td>66900.00</td>\n",
       "      <td>61667.00</td>\n",
       "    </tr>\n",
       "    <tr>\n",
       "      <th>75%</th>\n",
       "      <td>36075268.00</td>\n",
       "      <td>2020.00</td>\n",
       "      <td>80700.00</td>\n",
       "      <td>99990.00</td>\n",
       "      <td>99990.00</td>\n",
       "      <td>93200.00</td>\n",
       "    </tr>\n",
       "    <tr>\n",
       "      <th>max</th>\n",
       "      <td>36156739.00</td>\n",
       "      <td>2022.00</td>\n",
       "      <td>2039882.00</td>\n",
       "      <td>75000000.00</td>\n",
       "      <td>75000000.00</td>\n",
       "      <td>3100000.00</td>\n",
       "    </tr>\n",
       "  </tbody>\n",
       "</table>\n",
       "</div>"
      ],
      "text/plain": [
       "          UniqueId  YearModel    Odometer        Price     OldPrice  \\\n",
       "count     11209.00   11209.00    11209.00     11209.00     11209.00   \n",
       "mean   34810534.04    2016.55    59045.87    110560.34    110561.41   \n",
       "std     3719016.56       5.08    56160.48    998500.56    998500.50   \n",
       "min     4369950.00    1985.00        0.00      6000.00      6000.00   \n",
       "25%    35396411.00    2014.00    26980.00     47790.00     47790.00   \n",
       "50%    35904828.00    2019.00    47064.00     66900.00     66900.00   \n",
       "75%    36075268.00    2020.00    80700.00     99990.00     99990.00   \n",
       "max    36156739.00    2022.00  2039882.00  75000000.00  75000000.00   \n",
       "\n",
       "             Fipe  \n",
       "count    11209.00  \n",
       "mean     83973.96  \n",
       "std      95139.47  \n",
       "min       2380.00  \n",
       "25%      43647.00  \n",
       "50%      61667.00  \n",
       "75%      93200.00  \n",
       "max    3100000.00  "
      ]
     },
     "execution_count": 22,
     "metadata": {},
     "output_type": "execute_result"
    }
   ],
   "source": [
    "# Utilizando a função describe para exibir as Estatísticas descritivas das colunas\n",
    "df_cars.describe().round(2)"
   ]
  },
  {
   "cell_type": "markdown",
   "metadata": {},
   "source": [
    "### Coluna GoodDeal (Bom Negócio)"
   ]
  },
  {
   "cell_type": "markdown",
   "metadata": {},
   "source": [
    "Exibindo um agrupamento de registros pela coluna GoodDeal"
   ]
  },
  {
   "cell_type": "code",
   "execution_count": 23,
   "metadata": {},
   "outputs": [
    {
     "data": {
      "text/html": [
       "<div>\n",
       "<style scoped>\n",
       "    .dataframe tbody tr th:only-of-type {\n",
       "        vertical-align: middle;\n",
       "    }\n",
       "\n",
       "    .dataframe tbody tr th {\n",
       "        vertical-align: top;\n",
       "    }\n",
       "\n",
       "    .dataframe thead th {\n",
       "        text-align: right;\n",
       "    }\n",
       "</style>\n",
       "<table border=\"1\" class=\"dataframe\">\n",
       "  <thead>\n",
       "    <tr style=\"text-align: right;\">\n",
       "      <th></th>\n",
       "      <th>Bom Negócio</th>\n",
       "      <th>Quantidade</th>\n",
       "      <th>Porcentagem</th>\n",
       "    </tr>\n",
       "  </thead>\n",
       "  <tbody>\n",
       "    <tr>\n",
       "      <th>0</th>\n",
       "      <td>Pode não ser um Bom Negócio</td>\n",
       "      <td>10466</td>\n",
       "      <td>93.371398</td>\n",
       "    </tr>\n",
       "    <tr>\n",
       "      <th>1</th>\n",
       "      <td>Bom Negócio</td>\n",
       "      <td>743</td>\n",
       "      <td>6.628602</td>\n",
       "    </tr>\n",
       "  </tbody>\n",
       "</table>\n",
       "</div>"
      ],
      "text/plain": [
       "                   Bom Negócio  Quantidade  Porcentagem\n",
       "0  Pode não ser um Bom Negócio       10466    93.371398\n",
       "1                  Bom Negócio         743     6.628602"
      ]
     },
     "execution_count": 23,
     "metadata": {},
     "output_type": "execute_result"
    }
   ],
   "source": [
    "# Agrupa por GoodDeal e remove o index (GoodDeal)\n",
    "cars_group_good_deal = df_cars.groupby(['GoodDeal'], as_index=False)\n",
    "\n",
    "# Exibe colunas:\n",
    "# GoodDeal: valor único (agrupado)\n",
    "# UniqueId: quantidade de registros \n",
    "cars_group_good_deal = cars_group_good_deal.agg({'GoodDeal': np.unique, 'UniqueId': np.size}).round(2)\n",
    "\n",
    "# Renomeando as colunas para apresentá-las\n",
    "cars_group_good_deal = cars_group_good_deal.rename(columns={'GoodDeal':'Bom Negócio', 'UniqueId': 'Quantidade'})\n",
    "\n",
    "# Alterando os valores das linhas da coluna Bom Negócio para o label text\n",
    "# obs: Isso facilitará no uso do gráfico logo abaixo\n",
    "cars_group_good_deal.loc[cars_group_good_deal['Bom Negócio'] == True, ['Bom Negócio']] = 'Bom Negócio'\n",
    "cars_group_good_deal.loc[cars_group_good_deal['Bom Negócio'] == False, ['Bom Negócio']] = 'Pode não ser um Bom Negócio'\n",
    "\n",
    "# Calculando a Porcentagem da coluna Quantidade \n",
    "# obs: Essa coluna será usada no gráfico abaixo\n",
    "cars_group_good_deal['Porcentagem'] = (cars_group_good_deal['Quantidade'] / cars_group_good_deal['Quantidade'].sum()) * 100\n",
    "\n",
    "# ordena o Dataframe para apresentar primeiro os valores Valor > Fipe e posteriormente Valor <= Fipe\n",
    "# obs: isso garantirá no gráfico esta ordem para utilização da configuração de cores\n",
    "cars_group_good_deal = cars_group_good_deal.sort_values(by=['Bom Negócio'], ascending=False)\n",
    "\n",
    "cars_group_good_deal"
   ]
  },
  {
   "cell_type": "markdown",
   "metadata": {},
   "source": [
    "Selecionando os anúncios considerados Bom Negócio = True e o Preço Fipe OK"
   ]
  },
  {
   "cell_type": "code",
   "execution_count": 24,
   "metadata": {},
   "outputs": [
    {
     "data": {
      "text/plain": [
       "743"
      ]
     },
     "execution_count": 24,
     "metadata": {},
     "output_type": "execute_result"
    }
   ],
   "source": [
    "(df_cars['PriceFipeOk'] & df_cars['GoodDeal']).sum()"
   ]
  },
  {
   "cell_type": "markdown",
   "metadata": {},
   "source": [
    "Selecionando os anúncios considerados Bom Negócio = True e o onde o preço incial do anúncio foi ajustado"
   ]
  },
  {
   "cell_type": "code",
   "execution_count": 25,
   "metadata": {},
   "outputs": [
    {
     "data": {
      "text/plain": [
       "0"
      ]
     },
     "execution_count": 25,
     "metadata": {},
     "output_type": "execute_result"
    }
   ],
   "source": [
    "((df_cars['OldPrice'] < df_cars['Price']) & df_cars['GoodDeal']).sum()"
   ]
  },
  {
   "cell_type": "markdown",
   "metadata": {},
   "source": [
    "Exibe a tabela com o Preço Médio e a Quantidade de carros da marca."
   ]
  },
  {
   "cell_type": "code",
   "execution_count": 26,
   "metadata": {},
   "outputs": [
    {
     "data": {
      "text/html": [
       "<div>\n",
       "<style scoped>\n",
       "    .dataframe tbody tr th:only-of-type {\n",
       "        vertical-align: middle;\n",
       "    }\n",
       "\n",
       "    .dataframe tbody tr th {\n",
       "        vertical-align: top;\n",
       "    }\n",
       "\n",
       "    .dataframe thead th {\n",
       "        text-align: right;\n",
       "    }\n",
       "</style>\n",
       "<table border=\"1\" class=\"dataframe\">\n",
       "  <thead>\n",
       "    <tr style=\"text-align: right;\">\n",
       "      <th></th>\n",
       "      <th>Marca</th>\n",
       "      <th>Preço Médio</th>\n",
       "      <th>Quantidade</th>\n",
       "    </tr>\n",
       "  </thead>\n",
       "  <tbody>\n",
       "    <tr>\n",
       "      <th>0</th>\n",
       "      <td>ALFA ROMEO</td>\n",
       "      <td>59708.33</td>\n",
       "      <td>12</td>\n",
       "    </tr>\n",
       "    <tr>\n",
       "      <th>1</th>\n",
       "      <td>ASTON MARTIN</td>\n",
       "      <td>520000.00</td>\n",
       "      <td>1</td>\n",
       "    </tr>\n",
       "    <tr>\n",
       "      <th>2</th>\n",
       "      <td>AUDI</td>\n",
       "      <td>181651.93</td>\n",
       "      <td>291</td>\n",
       "    </tr>\n",
       "    <tr>\n",
       "      <th>3</th>\n",
       "      <td>BMW</td>\n",
       "      <td>186277.03</td>\n",
       "      <td>346</td>\n",
       "    </tr>\n",
       "    <tr>\n",
       "      <th>4</th>\n",
       "      <td>CHERY</td>\n",
       "      <td>108409.11</td>\n",
       "      <td>125</td>\n",
       "    </tr>\n",
       "    <tr>\n",
       "      <th>5</th>\n",
       "      <td>CHEVROLET</td>\n",
       "      <td>60701.00</td>\n",
       "      <td>1432</td>\n",
       "    </tr>\n",
       "    <tr>\n",
       "      <th>6</th>\n",
       "      <td>CHRYSLER</td>\n",
       "      <td>49100.74</td>\n",
       "      <td>27</td>\n",
       "    </tr>\n",
       "    <tr>\n",
       "      <th>7</th>\n",
       "      <td>CITROËN</td>\n",
       "      <td>48193.03</td>\n",
       "      <td>253</td>\n",
       "    </tr>\n",
       "    <tr>\n",
       "      <th>8</th>\n",
       "      <td>DODGE</td>\n",
       "      <td>70395.83</td>\n",
       "      <td>36</td>\n",
       "    </tr>\n",
       "    <tr>\n",
       "      <th>9</th>\n",
       "      <td>FERRARI</td>\n",
       "      <td>1654750.00</td>\n",
       "      <td>4</td>\n",
       "    </tr>\n",
       "    <tr>\n",
       "      <th>10</th>\n",
       "      <td>FIAT</td>\n",
       "      <td>80108.93</td>\n",
       "      <td>952</td>\n",
       "    </tr>\n",
       "    <tr>\n",
       "      <th>11</th>\n",
       "      <td>FORD</td>\n",
       "      <td>67448.56</td>\n",
       "      <td>1327</td>\n",
       "    </tr>\n",
       "    <tr>\n",
       "      <th>12</th>\n",
       "      <td>GURGEL</td>\n",
       "      <td>18000.00</td>\n",
       "      <td>1</td>\n",
       "    </tr>\n",
       "    <tr>\n",
       "      <th>13</th>\n",
       "      <td>HAFEI</td>\n",
       "      <td>20500.00</td>\n",
       "      <td>1</td>\n",
       "    </tr>\n",
       "    <tr>\n",
       "      <th>14</th>\n",
       "      <td>HONDA</td>\n",
       "      <td>78518.15</td>\n",
       "      <td>285</td>\n",
       "    </tr>\n",
       "    <tr>\n",
       "      <th>15</th>\n",
       "      <td>HYUNDAI</td>\n",
       "      <td>69738.90</td>\n",
       "      <td>626</td>\n",
       "    </tr>\n",
       "    <tr>\n",
       "      <th>16</th>\n",
       "      <td>IVECO</td>\n",
       "      <td>196000.00</td>\n",
       "      <td>1</td>\n",
       "    </tr>\n",
       "    <tr>\n",
       "      <th>17</th>\n",
       "      <td>JAC</td>\n",
       "      <td>38004.38</td>\n",
       "      <td>16</td>\n",
       "    </tr>\n",
       "    <tr>\n",
       "      <th>18</th>\n",
       "      <td>JAGUAR</td>\n",
       "      <td>248645.68</td>\n",
       "      <td>37</td>\n",
       "    </tr>\n",
       "    <tr>\n",
       "      <th>19</th>\n",
       "      <td>JEEP</td>\n",
       "      <td>110898.31</td>\n",
       "      <td>516</td>\n",
       "    </tr>\n",
       "    <tr>\n",
       "      <th>20</th>\n",
       "      <td>JINBEI</td>\n",
       "      <td>32875.00</td>\n",
       "      <td>4</td>\n",
       "    </tr>\n",
       "    <tr>\n",
       "      <th>21</th>\n",
       "      <td>KIA</td>\n",
       "      <td>117432.64</td>\n",
       "      <td>211</td>\n",
       "    </tr>\n",
       "    <tr>\n",
       "      <th>22</th>\n",
       "      <td>LAMBORGHINI</td>\n",
       "      <td>2656666.67</td>\n",
       "      <td>3</td>\n",
       "    </tr>\n",
       "    <tr>\n",
       "      <th>23</th>\n",
       "      <td>LAND ROVER</td>\n",
       "      <td>168776.98</td>\n",
       "      <td>316</td>\n",
       "    </tr>\n",
       "    <tr>\n",
       "      <th>24</th>\n",
       "      <td>LEXUS</td>\n",
       "      <td>175936.25</td>\n",
       "      <td>16</td>\n",
       "    </tr>\n",
       "    <tr>\n",
       "      <th>25</th>\n",
       "      <td>LIFAN</td>\n",
       "      <td>63506.00</td>\n",
       "      <td>10</td>\n",
       "    </tr>\n",
       "    <tr>\n",
       "      <th>26</th>\n",
       "      <td>MASERATI</td>\n",
       "      <td>464950.00</td>\n",
       "      <td>4</td>\n",
       "    </tr>\n",
       "    <tr>\n",
       "      <th>27</th>\n",
       "      <td>MAZDA</td>\n",
       "      <td>58300.00</td>\n",
       "      <td>3</td>\n",
       "    </tr>\n",
       "    <tr>\n",
       "      <th>28</th>\n",
       "      <td>MCLAREN</td>\n",
       "      <td>3100000.00</td>\n",
       "      <td>1</td>\n",
       "    </tr>\n",
       "    <tr>\n",
       "      <th>29</th>\n",
       "      <td>MERCEDES-BENZ</td>\n",
       "      <td>404799.36</td>\n",
       "      <td>365</td>\n",
       "    </tr>\n",
       "    <tr>\n",
       "      <th>30</th>\n",
       "      <td>MG</td>\n",
       "      <td>53725.00</td>\n",
       "      <td>4</td>\n",
       "    </tr>\n",
       "    <tr>\n",
       "      <th>31</th>\n",
       "      <td>MINI</td>\n",
       "      <td>116118.58</td>\n",
       "      <td>38</td>\n",
       "    </tr>\n",
       "    <tr>\n",
       "      <th>32</th>\n",
       "      <td>MITSUBISHI</td>\n",
       "      <td>113433.91</td>\n",
       "      <td>201</td>\n",
       "    </tr>\n",
       "    <tr>\n",
       "      <th>33</th>\n",
       "      <td>NISSAN</td>\n",
       "      <td>84365.82</td>\n",
       "      <td>264</td>\n",
       "    </tr>\n",
       "    <tr>\n",
       "      <th>34</th>\n",
       "      <td>PEUGEOT</td>\n",
       "      <td>61017.77</td>\n",
       "      <td>334</td>\n",
       "    </tr>\n",
       "    <tr>\n",
       "      <th>35</th>\n",
       "      <td>PORSCHE</td>\n",
       "      <td>483092.32</td>\n",
       "      <td>94</td>\n",
       "    </tr>\n",
       "    <tr>\n",
       "      <th>36</th>\n",
       "      <td>RELY</td>\n",
       "      <td>24500.00</td>\n",
       "      <td>1</td>\n",
       "    </tr>\n",
       "    <tr>\n",
       "      <th>37</th>\n",
       "      <td>RENAULT</td>\n",
       "      <td>57972.29</td>\n",
       "      <td>815</td>\n",
       "    </tr>\n",
       "    <tr>\n",
       "      <th>38</th>\n",
       "      <td>SMART</td>\n",
       "      <td>63163.33</td>\n",
       "      <td>3</td>\n",
       "    </tr>\n",
       "    <tr>\n",
       "      <th>39</th>\n",
       "      <td>SSANGYONG</td>\n",
       "      <td>44722.50</td>\n",
       "      <td>4</td>\n",
       "    </tr>\n",
       "    <tr>\n",
       "      <th>40</th>\n",
       "      <td>SUBARU</td>\n",
       "      <td>82226.50</td>\n",
       "      <td>26</td>\n",
       "    </tr>\n",
       "    <tr>\n",
       "      <th>41</th>\n",
       "      <td>SUZUKI</td>\n",
       "      <td>89795.89</td>\n",
       "      <td>27</td>\n",
       "    </tr>\n",
       "    <tr>\n",
       "      <th>42</th>\n",
       "      <td>TOYOTA</td>\n",
       "      <td>191081.01</td>\n",
       "      <td>429</td>\n",
       "    </tr>\n",
       "    <tr>\n",
       "      <th>43</th>\n",
       "      <td>TROLLER</td>\n",
       "      <td>159602.63</td>\n",
       "      <td>19</td>\n",
       "    </tr>\n",
       "    <tr>\n",
       "      <th>44</th>\n",
       "      <td>VOLKSWAGEN</td>\n",
       "      <td>113048.32</td>\n",
       "      <td>1619</td>\n",
       "    </tr>\n",
       "    <tr>\n",
       "      <th>45</th>\n",
       "      <td>VOLVO</td>\n",
       "      <td>185615.99</td>\n",
       "      <td>109</td>\n",
       "    </tr>\n",
       "  </tbody>\n",
       "</table>\n",
       "</div>"
      ],
      "text/plain": [
       "            Marca  Preço Médio  Quantidade\n",
       "0      ALFA ROMEO     59708.33          12\n",
       "1    ASTON MARTIN    520000.00           1\n",
       "2            AUDI    181651.93         291\n",
       "3             BMW    186277.03         346\n",
       "4           CHERY    108409.11         125\n",
       "5       CHEVROLET     60701.00        1432\n",
       "6        CHRYSLER     49100.74          27\n",
       "7         CITROËN     48193.03         253\n",
       "8           DODGE     70395.83          36\n",
       "9         FERRARI   1654750.00           4\n",
       "10           FIAT     80108.93         952\n",
       "11           FORD     67448.56        1327\n",
       "12         GURGEL     18000.00           1\n",
       "13          HAFEI     20500.00           1\n",
       "14          HONDA     78518.15         285\n",
       "15        HYUNDAI     69738.90         626\n",
       "16          IVECO    196000.00           1\n",
       "17            JAC     38004.38          16\n",
       "18         JAGUAR    248645.68          37\n",
       "19           JEEP    110898.31         516\n",
       "20         JINBEI     32875.00           4\n",
       "21            KIA    117432.64         211\n",
       "22    LAMBORGHINI   2656666.67           3\n",
       "23     LAND ROVER    168776.98         316\n",
       "24          LEXUS    175936.25          16\n",
       "25          LIFAN     63506.00          10\n",
       "26       MASERATI    464950.00           4\n",
       "27          MAZDA     58300.00           3\n",
       "28        MCLAREN   3100000.00           1\n",
       "29  MERCEDES-BENZ    404799.36         365\n",
       "30             MG     53725.00           4\n",
       "31           MINI    116118.58          38\n",
       "32     MITSUBISHI    113433.91         201\n",
       "33         NISSAN     84365.82         264\n",
       "34        PEUGEOT     61017.77         334\n",
       "35        PORSCHE    483092.32          94\n",
       "36           RELY     24500.00           1\n",
       "37        RENAULT     57972.29         815\n",
       "38          SMART     63163.33           3\n",
       "39      SSANGYONG     44722.50           4\n",
       "40         SUBARU     82226.50          26\n",
       "41         SUZUKI     89795.89          27\n",
       "42         TOYOTA    191081.01         429\n",
       "43        TROLLER    159602.63          19\n",
       "44     VOLKSWAGEN    113048.32        1619\n",
       "45          VOLVO    185615.99         109"
      ]
     },
     "execution_count": 26,
     "metadata": {},
     "output_type": "execute_result"
    }
   ],
   "source": [
    "# Agrupa e exibe carros pelo preço médio de cada marca.\n",
    "cars_group_make_mean = df_cars.groupby(['Make'], as_index=False)\n",
    "\n",
    "# Exibe colunas:\n",
    "# Model: valor único (agrupado)\n",
    "# Preço: média de preço daquela Marca \n",
    "cars_group_make_mean = cars_group_make_mean.agg({'Price':np.mean, 'UniqueId': np.size}).round(2)\n",
    "\n",
    "# Renomeando as colunas para apresentá-las\n",
    "cars_group_make_mean = cars_group_make_mean.rename(columns={'Make':'Marca','Price':'Preço Médio', 'UniqueId': 'Quantidade'})\n",
    "\n",
    "# Ordenando em ordem Decrescente pela coluna modelo\n",
    "cars_group_make_mean = cars_group_make_mean.sort_values('Marca', ascending=True)\n",
    "\n",
    "cars_group_make_mean"
   ]
  },
  {
   "cell_type": "markdown",
   "metadata": {},
   "source": [
    "Exibe um Gráfico com a Quantidade de carros de cada Marca."
   ]
  },
  {
   "cell_type": "code",
   "execution_count": 27,
   "metadata": {},
   "outputs": [
    {
     "data": {
      "text/plain": [
       "<matplotlib.legend.Legend at 0x1dff1c6f6d0>"
      ]
     },
     "execution_count": 27,
     "metadata": {},
     "output_type": "execute_result"
    },
    {
     "data": {
      "image/png": "[encoded data removed]",
      "text/plain": [
       "<Figure size 576x432 with 1 Axes>"
      ]
     },
     "metadata": {
      "needs_background": "light"
     },
     "output_type": "display_data"
    }
   ],
   "source": [
    "# Gráfico Quantidade de Carros de cada Marca\n",
    "\n",
    "# Pega o resultado do agrupamento (Preço Médio + Modelo) para exibir no gráfico\n",
    "fig = plt.figure(figsize=(8,6))\n",
    "eixo = fig.add_axes([0, 0, 1, 1])\n",
    "\n",
    "# Adicionando os Índices das marcas\n",
    "indice = np.arange(len(cars_group_make_mean))\n",
    "\n",
    "eixo.barh(indice, cars_group_make_mean['Quantidade'].round(), align='center', height=0.8,  tick_label=cars_group_make_mean['Marca'], color=[\"#d5224a\", '#f6a67e'])\n",
    "\n",
    "# Alterando Título e Labels\n",
    "eixo.set_title('Quantidade X Marca', fontsize=15, pad=20)\n",
    "eixo.set_xlabel('Quantidade')\n",
    "eixo.set_ylabel('Marca')\n",
    "\n",
    "eixo.set_yticks(indice)\n",
    "eixo.set_yticklabels(cars_group_make_mean['Marca'], fontsize=7.8)\n",
    "\n",
    "# Adicionando Legenda\n",
    "eixo.legend(['Qtd Carros'], loc = 'lower right')"
   ]
  },
  {
   "cell_type": "markdown",
   "metadata": {},
   "source": [
    "Exibe tabela agrupando Modelo, Ano Modelo, Km Médio e Quantidade de cada modelo."
   ]
  },
  {
   "cell_type": "code",
   "execution_count": 28,
   "metadata": {},
   "outputs": [
    {
     "data": {
      "text/html": [
       "<div>\n",
       "<style scoped>\n",
       "    .dataframe tbody tr th:only-of-type {\n",
       "        vertical-align: middle;\n",
       "    }\n",
       "\n",
       "    .dataframe tbody tr th {\n",
       "        vertical-align: top;\n",
       "    }\n",
       "\n",
       "    .dataframe thead th {\n",
       "        text-align: right;\n",
       "    }\n",
       "</style>\n",
       "<table border=\"1\" class=\"dataframe\">\n",
       "  <thead>\n",
       "    <tr style=\"text-align: right;\">\n",
       "      <th></th>\n",
       "      <th>Modelo</th>\n",
       "      <th>Ano Modelo</th>\n",
       "      <th>Km Médio</th>\n",
       "      <th>Quantidade</th>\n",
       "    </tr>\n",
       "  </thead>\n",
       "  <tbody>\n",
       "    <tr>\n",
       "      <th>0</th>\n",
       "      <td>116i</td>\n",
       "      <td>2014</td>\n",
       "      <td>49000.00</td>\n",
       "      <td>1</td>\n",
       "    </tr>\n",
       "    <tr>\n",
       "      <th>1</th>\n",
       "      <td>116i</td>\n",
       "      <td>2015</td>\n",
       "      <td>87795.67</td>\n",
       "      <td>3</td>\n",
       "    </tr>\n",
       "    <tr>\n",
       "      <th>2</th>\n",
       "      <td>118i</td>\n",
       "      <td>2010</td>\n",
       "      <td>88333.33</td>\n",
       "      <td>3</td>\n",
       "    </tr>\n",
       "    <tr>\n",
       "      <th>3</th>\n",
       "      <td>118i</td>\n",
       "      <td>2012</td>\n",
       "      <td>88000.00</td>\n",
       "      <td>1</td>\n",
       "    </tr>\n",
       "    <tr>\n",
       "      <th>4</th>\n",
       "      <td>118i</td>\n",
       "      <td>2013</td>\n",
       "      <td>60869.50</td>\n",
       "      <td>2</td>\n",
       "    </tr>\n",
       "  </tbody>\n",
       "</table>\n",
       "</div>"
      ],
      "text/plain": [
       "  Modelo  Ano Modelo  Km Médio  Quantidade\n",
       "0   116i        2014  49000.00           1\n",
       "1   116i        2015  87795.67           3\n",
       "2   118i        2010  88333.33           3\n",
       "3   118i        2012  88000.00           1\n",
       "4   118i        2013  60869.50           2"
      ]
     },
     "execution_count": 28,
     "metadata": {},
     "output_type": "execute_result"
    }
   ],
   "source": [
    "# Agrupa e exibe carros pelo número médio de km rodados por ano por modelo\n",
    "cars_group_model_mean_km_year = df_cars.groupby(['Model', 'YearModel'], as_index=False)\n",
    "\n",
    "# Exibe colunas:\n",
    "# Model: valor único (agrupado)\n",
    "# YearModel: valor único (agrupado)\n",
    "# Odometer: média de km daquele modelo \n",
    "cars_group_model_mean_km_year = cars_group_model_mean_km_year.agg({'Odometer':np.mean, 'UniqueId': np.size}).round(2)\n",
    "\n",
    "# Renomeando as colunas para apresentá-las\n",
    "cars_group_model_mean_km_year = cars_group_model_mean_km_year.rename(columns={'Model':'Modelo', 'YearModel':'Ano Modelo','Odometer':'Km Médio', 'UniqueId': 'Quantidade'})\n",
    "\n",
    "cars_group_model_mean_km_year.head()"
   ]
  },
  {
   "cell_type": "markdown",
   "metadata": {},
   "source": [
    "Selecionando apenas os carros que houve uma baixa no preço inicial do anúncio."
   ]
  },
  {
   "cell_type": "code",
   "execution_count": 29,
   "metadata": {},
   "outputs": [
    {
     "data": {
      "text/html": [
       "<div>\n",
       "<style scoped>\n",
       "    .dataframe tbody tr th:only-of-type {\n",
       "        vertical-align: middle;\n",
       "    }\n",
       "\n",
       "    .dataframe tbody tr th {\n",
       "        vertical-align: top;\n",
       "    }\n",
       "\n",
       "    .dataframe thead th {\n",
       "        text-align: right;\n",
       "    }\n",
       "</style>\n",
       "<table border=\"1\" class=\"dataframe\">\n",
       "  <thead>\n",
       "    <tr style=\"text-align: right;\">\n",
       "      <th></th>\n",
       "      <th>Marca</th>\n",
       "      <th>Quantidade</th>\n",
       "    </tr>\n",
       "  </thead>\n",
       "  <tbody>\n",
       "    <tr>\n",
       "      <th>0</th>\n",
       "      <td>AUDI</td>\n",
       "      <td>1</td>\n",
       "    </tr>\n",
       "    <tr>\n",
       "      <th>1</th>\n",
       "      <td>CHEVROLET</td>\n",
       "      <td>1</td>\n",
       "    </tr>\n",
       "    <tr>\n",
       "      <th>2</th>\n",
       "      <td>CITROËN</td>\n",
       "      <td>1</td>\n",
       "    </tr>\n",
       "    <tr>\n",
       "      <th>3</th>\n",
       "      <td>FIAT</td>\n",
       "      <td>1</td>\n",
       "    </tr>\n",
       "    <tr>\n",
       "      <th>4</th>\n",
       "      <td>FORD</td>\n",
       "      <td>1</td>\n",
       "    </tr>\n",
       "    <tr>\n",
       "      <th>5</th>\n",
       "      <td>HONDA</td>\n",
       "      <td>1</td>\n",
       "    </tr>\n",
       "    <tr>\n",
       "      <th>6</th>\n",
       "      <td>HYUNDAI</td>\n",
       "      <td>4</td>\n",
       "    </tr>\n",
       "    <tr>\n",
       "      <th>7</th>\n",
       "      <td>NISSAN</td>\n",
       "      <td>1</td>\n",
       "    </tr>\n",
       "    <tr>\n",
       "      <th>8</th>\n",
       "      <td>PEUGEOT</td>\n",
       "      <td>1</td>\n",
       "    </tr>\n",
       "    <tr>\n",
       "      <th>9</th>\n",
       "      <td>VOLKSWAGEN</td>\n",
       "      <td>1</td>\n",
       "    </tr>\n",
       "  </tbody>\n",
       "</table>\n",
       "</div>"
      ],
      "text/plain": [
       "        Marca  Quantidade\n",
       "0        AUDI           1\n",
       "1   CHEVROLET           1\n",
       "2     CITROËN           1\n",
       "3        FIAT           1\n",
       "4        FORD           1\n",
       "5       HONDA           1\n",
       "6     HYUNDAI           4\n",
       "7      NISSAN           1\n",
       "8     PEUGEOT           1\n",
       "9  VOLKSWAGEN           1"
      ]
     },
     "execution_count": 29,
     "metadata": {},
     "output_type": "execute_result"
    }
   ],
   "source": [
    "# Agrupa os carros por Marca, somente os que houve uma alteração do preço para um menor valor\n",
    "\n",
    "# Agrupa por Make\n",
    "cars_group_make_old_price = df_cars[df_cars['OldPrice'] > df_cars['Price']].groupby(['Make'], as_index=False)\n",
    "\n",
    "# Exibe colunas:\n",
    "# UniqueId: quantidade de registros \n",
    "cars_group_make_old_price = cars_group_make_old_price.agg({ 'UniqueId': np.size}).round(2)\n",
    "\n",
    "# Renomeando as colunas para apresentá-las \n",
    "cars_group_make_old_price = cars_group_make_old_price.rename(columns={'Make':'Marca', 'UniqueId':'Quantidade'})\n",
    "\n",
    "cars_group_make_old_price"
   ]
  },
  {
   "cell_type": "markdown",
   "metadata": {},
   "source": [
    "Exibindo gráfico Marca X Quantidade apenas dos carros que houve alteração de dimuição do preço inicial do anúncio."
   ]
  },
  {
   "cell_type": "code",
   "execution_count": 30,
   "metadata": {},
   "outputs": [
    {
     "data": {
      "text/plain": [
       "<matplotlib.legend.Legend at 0x1dff9821c10>"
      ]
     },
     "execution_count": 30,
     "metadata": {},
     "output_type": "execute_result"
    },
    {
     "data": {
      "image/png": "[encoded data removed]",
      "text/plain": [
       "<Figure size 576x288 with 1 Axes>"
      ]
     },
     "metadata": {
      "needs_background": "light"
     },
     "output_type": "display_data"
    }
   ],
   "source": [
    "# Gráfico Marca X Quantidade\n",
    "\n",
    "# Pega o resultado do agrupamento (Marca e Qtd de registros) para exibir no gráfico\n",
    "fig = plt.figure(figsize=(8,4))\n",
    "eixo = fig.add_axes([0, 0, 1, 1])\n",
    "\n",
    "# Adicionando os Índices das marcas\n",
    "indice = np.arange(len(cars_group_make_old_price))\n",
    "\n",
    "eixo.barh(indice, cars_group_make_old_price['Quantidade'].round(), align='center', height=0.5,  tick_label=cars_group_make_old_price['Marca'], color=[\"#d5224a\", '#f6a67e'])\n",
    "\n",
    "# Alterando Título e Labels\n",
    "eixo.set_title('Marca X Quantidade', fontsize=15, pad=20)\n",
    "eixo.set_xlabel('Quantidade')\n",
    "eixo.set_ylabel('Marca')\n",
    "\n",
    "eixo.set_yticks(indice)\n",
    "eixo.set_yticklabels(cars_group_make_old_price['Marca'], fontsize=9)\n",
    "\n",
    "# Adicionando Legenda\n",
    "eixo.legend(['Qtd Carros'], loc = 'lower right')"
   ]
  },
  {
   "cell_type": "markdown",
   "metadata": {},
   "source": [
    "Exibe a tabela com o Ano, Km e Quantidade de carros por ano."
   ]
  },
  {
   "cell_type": "code",
   "execution_count": 31,
   "metadata": {},
   "outputs": [
    {
     "data": {
      "text/html": [
       "<div>\n",
       "<style scoped>\n",
       "    .dataframe tbody tr th:only-of-type {\n",
       "        vertical-align: middle;\n",
       "    }\n",
       "\n",
       "    .dataframe tbody tr th {\n",
       "        vertical-align: top;\n",
       "    }\n",
       "\n",
       "    .dataframe thead th {\n",
       "        text-align: right;\n",
       "    }\n",
       "</style>\n",
       "<table border=\"1\" class=\"dataframe\">\n",
       "  <thead>\n",
       "    <tr style=\"text-align: right;\">\n",
       "      <th></th>\n",
       "      <th>Ano</th>\n",
       "      <th>Km</th>\n",
       "      <th>Quantidade</th>\n",
       "    </tr>\n",
       "  </thead>\n",
       "  <tbody>\n",
       "    <tr>\n",
       "      <th>37</th>\n",
       "      <td>2022</td>\n",
       "      <td>5.96</td>\n",
       "      <td>100</td>\n",
       "    </tr>\n",
       "    <tr>\n",
       "      <th>36</th>\n",
       "      <td>2021</td>\n",
       "      <td>2333.54</td>\n",
       "      <td>1218</td>\n",
       "    </tr>\n",
       "    <tr>\n",
       "      <th>35</th>\n",
       "      <td>2020</td>\n",
       "      <td>34938.99</td>\n",
       "      <td>2797</td>\n",
       "    </tr>\n",
       "    <tr>\n",
       "      <th>34</th>\n",
       "      <td>2019</td>\n",
       "      <td>38896.65</td>\n",
       "      <td>1553</td>\n",
       "    </tr>\n",
       "    <tr>\n",
       "      <th>33</th>\n",
       "      <td>2018</td>\n",
       "      <td>51397.67</td>\n",
       "      <td>811</td>\n",
       "    </tr>\n",
       "  </tbody>\n",
       "</table>\n",
       "</div>"
      ],
      "text/plain": [
       "     Ano        Km  Quantidade\n",
       "37  2022      5.96         100\n",
       "36  2021   2333.54        1218\n",
       "35  2020  34938.99        2797\n",
       "34  2019  38896.65        1553\n",
       "33  2018  51397.67         811"
      ]
     },
     "execution_count": 31,
     "metadata": {},
     "output_type": "execute_result"
    }
   ],
   "source": [
    "# Agrupa os carros por Ano e Calcula a Média e a Quantidade por Ano\n",
    "\n",
    "# Agrupa por ano e remove o index (YearModel)\n",
    "cars_group_mean_year = df_cars.groupby(['YearModel'], as_index=False)\n",
    "\n",
    "# Exibe colunas:\n",
    "# YearModel: valor único (agrupado)\n",
    "# Odometer: média de valores (Km)\n",
    "# UniqueId: quantidade de registros \n",
    "cars_group_mean_year = cars_group_mean_year.agg({'YearModel': np.unique, 'Odometer':np.mean, 'UniqueId': np.size}).round(2)\n",
    "\n",
    "# Renomeando as colunas para apresentá-las\n",
    "cars_group_mean_year = cars_group_mean_year.rename(columns={'YearModel':'Ano','Odometer':'Km', 'UniqueId': 'Quantidade'})\n",
    "\n",
    "# Ordenando em ordem Decrescente pela coluna ano\n",
    "cars_group_mean_year = cars_group_mean_year.sort_values('Ano', ascending=False)\n",
    "#.reset_index()\n",
    "\n",
    "cars_group_mean_year.head()"
   ]
  },
  {
   "cell_type": "markdown",
   "metadata": {},
   "source": [
    "Exibe Gráfico agrupando a Quilometragem e Ano dos carros.\n",
    "\n",
    "Neste gráfico foi considerado apenas os carros com ano entre [2000 - Ano Atual]. Percebemos que quanto mais tempo em anos o carro tem, a quilometragem é proporcional ao uso."
   ]
  },
  {
   "cell_type": "code",
   "execution_count": 32,
   "metadata": {},
   "outputs": [
    {
     "data": {
      "text/plain": [
       "<matplotlib.legend.Legend at 0x1dff9a9b8b0>"
      ]
     },
     "execution_count": 32,
     "metadata": {},
     "output_type": "execute_result"
    },
    {
     "data": {
      "image/png": "[encoded data removed]",
      "text/plain": [
       "<Figure size 576x288 with 1 Axes>"
      ]
     },
     "metadata": {
      "needs_background": "light"
     },
     "output_type": "display_data"
    }
   ],
   "source": [
    "# Gráfico variação de Quilometragem e Ano do carro\n",
    "\n",
    "# Pega o resultado do agrupamento (Ano + Quilometragem) para exibir no gráfico\n",
    "fig = plt.figure(figsize=(8,4))\n",
    "eixo = fig.add_axes([0, 0, 1, 1])\n",
    "\n",
    "# Adicionando gráfico\n",
    "eixo.plot(cars_group_mean_year['Ano'], cars_group_mean_year['Km'], color= '#d5224a', lw=2, marker = 'o')\n",
    "\n",
    "# Exibe no gráfico somente os carros entre [2000 - Ano Atual]\n",
    "eixo.set_xlim(2000) # a partir de 2000\n",
    "\n",
    "# Adicionando cor de destaque para carros que ainda estão entre 10 anos \n",
    "cars_10_years = now.year - cars_group_mean_year['Ano']  < 10\n",
    "eixo.plot(cars_group_mean_year[cars_10_years]['Ano'], cars_group_mean_year[cars_10_years]['Km'], color= '#5c1e51', lw=2, marker = 'o')\n",
    "\n",
    "# Alterando Título e Labels\n",
    "eixo.set_title('Quilometragem x Ano Modelo', fontsize=15, pad=20)\n",
    "eixo.set_ylabel('Km')\n",
    "eixo.set_xlabel('Ano')\n",
    "\n",
    "# Adicionando Legenda\n",
    "eixo.legend(['Km Carros', 'Km Carros < 10 Anos'], loc = 'lower right')"
   ]
  },
  {
   "cell_type": "markdown",
   "metadata": {},
   "source": [
    "### Preço Fipe (OK ou Não) das 10 Maiores Marcas"
   ]
  },
  {
   "cell_type": "markdown",
   "metadata": {},
   "source": [
    "Exibe tabela agrupando as marcas e se o valor da tabela Fipe está OK ou não. \n",
    "\n",
    "Consideramos apenas os valores das 10 maiores marcas de carros, eleitos pela https://www.noticiasautomotivas.com.br/marcas-de-carro-as-10-maiores-e-melhores-do-mundo/. Pois logo abaixo será mostrado um gráfico de relação dos valores, e por isso escolhemos apenas alguns registros, pois seriam melhor exibidos no gráfico."
   ]
  },
  {
   "cell_type": "code",
   "execution_count": 33,
   "metadata": {},
   "outputs": [
    {
     "data": {
      "text/html": [
       "<div>\n",
       "<style scoped>\n",
       "    .dataframe tbody tr th:only-of-type {\n",
       "        vertical-align: middle;\n",
       "    }\n",
       "\n",
       "    .dataframe tbody tr th {\n",
       "        vertical-align: top;\n",
       "    }\n",
       "\n",
       "    .dataframe thead th {\n",
       "        text-align: right;\n",
       "    }\n",
       "</style>\n",
       "<table border=\"1\" class=\"dataframe\">\n",
       "  <thead>\n",
       "    <tr style=\"text-align: right;\">\n",
       "      <th></th>\n",
       "      <th>Marca</th>\n",
       "      <th>Preço Fipe OK</th>\n",
       "      <th>Preço Fipe Não OK</th>\n",
       "    </tr>\n",
       "  </thead>\n",
       "  <tbody>\n",
       "    <tr>\n",
       "      <th>3</th>\n",
       "      <td>BMW</td>\n",
       "      <td>86.0</td>\n",
       "      <td>260.0</td>\n",
       "    </tr>\n",
       "    <tr>\n",
       "      <th>5</th>\n",
       "      <td>CHEVROLET</td>\n",
       "      <td>164.0</td>\n",
       "      <td>1268.0</td>\n",
       "    </tr>\n",
       "    <tr>\n",
       "      <th>11</th>\n",
       "      <td>FORD</td>\n",
       "      <td>306.0</td>\n",
       "      <td>1021.0</td>\n",
       "    </tr>\n",
       "    <tr>\n",
       "      <th>14</th>\n",
       "      <td>HONDA</td>\n",
       "      <td>29.0</td>\n",
       "      <td>256.0</td>\n",
       "    </tr>\n",
       "    <tr>\n",
       "      <th>15</th>\n",
       "      <td>HYUNDAI</td>\n",
       "      <td>64.0</td>\n",
       "      <td>562.0</td>\n",
       "    </tr>\n",
       "    <tr>\n",
       "      <th>21</th>\n",
       "      <td>KIA</td>\n",
       "      <td>38.0</td>\n",
       "      <td>173.0</td>\n",
       "    </tr>\n",
       "    <tr>\n",
       "      <th>29</th>\n",
       "      <td>MERCEDES-BENZ</td>\n",
       "      <td>80.0</td>\n",
       "      <td>285.0</td>\n",
       "    </tr>\n",
       "    <tr>\n",
       "      <th>33</th>\n",
       "      <td>NISSAN</td>\n",
       "      <td>44.0</td>\n",
       "      <td>220.0</td>\n",
       "    </tr>\n",
       "    <tr>\n",
       "      <th>42</th>\n",
       "      <td>TOYOTA</td>\n",
       "      <td>48.0</td>\n",
       "      <td>381.0</td>\n",
       "    </tr>\n",
       "    <tr>\n",
       "      <th>44</th>\n",
       "      <td>VOLKSWAGEN</td>\n",
       "      <td>182.0</td>\n",
       "      <td>1437.0</td>\n",
       "    </tr>\n",
       "  </tbody>\n",
       "</table>\n",
       "</div>"
      ],
      "text/plain": [
       "            Marca  Preço Fipe OK  Preço Fipe Não OK\n",
       "3             BMW           86.0              260.0\n",
       "5       CHEVROLET          164.0             1268.0\n",
       "11           FORD          306.0             1021.0\n",
       "14          HONDA           29.0              256.0\n",
       "15        HYUNDAI           64.0              562.0\n",
       "21            KIA           38.0              173.0\n",
       "29  MERCEDES-BENZ           80.0              285.0\n",
       "33         NISSAN           44.0              220.0\n",
       "42         TOYOTA           48.0              381.0\n",
       "44     VOLKSWAGEN          182.0             1437.0"
      ]
     },
     "execution_count": 33,
     "metadata": {},
     "output_type": "execute_result"
    }
   ],
   "source": [
    "# Agrupa os carros por Make e quantidade de carros com PriceFipeOk (True or False)\n",
    "# obs: Consideremos apenas as 10 maiores marcas de carro \n",
    "make_top_10 = ['TOYOTA','VOLKSWAGEN','FORD','HONDA','NISSAN','HYUNDAI','CHEVROLET','KIA','MERCEDES-BENZ','BMW']\n",
    "\n",
    "# Agrupa por marca e remove o index (Make)  \n",
    "cars_group_make_fipe = pd.get_dummies(df_cars, columns=['PriceFipeOk']).groupby(['Make'], as_index=False).sum()\n",
    "\n",
    "# Renomeando as colunas para apresentá-las \n",
    "cars_group_make_fipe = cars_group_make_fipe.rename(columns={'Make':'Marca', 'PriceFipeOk_True':'Preço Fipe OK', 'PriceFipeOk_False':'Preço Fipe Não OK'})\n",
    "\n",
    "# Exibe colunas:\n",
    "# Make: valor único (agrupado)\n",
    "# PriceFipeOk_True: quantidade de registros Preço Fipe OK\n",
    "# PriceFipeOk_False: quantidade de registros Preço Fipe Não OK\n",
    "cars_group_make_fipe = cars_group_make_fipe[['Marca', 'Preço Fipe OK', 'Preço Fipe Não OK']]\n",
    "\n",
    "# Pega apenas os registros que estão com o Preço Fipe OK (PriceFipeOk) e que estão entre as 10 maiores marcas veículos\n",
    "cars_group_make_fipe = cars_group_make_fipe[(cars_group_make_fipe['Marca'].isin(make_top_10))]\n",
    "\n",
    "cars_group_make_fipe"
   ]
  },
  {
   "cell_type": "markdown",
   "metadata": {},
   "source": [
    "Exibe Gráfico Relação das Marcas e Preço Fipe OK e Fipe não OK.\n",
    "\n",
    "Consideramos apenas as 10 maiores marcas."
   ]
  },
  {
   "cell_type": "code",
   "execution_count": 34,
   "metadata": {},
   "outputs": [
    {
     "data": {
      "text/plain": [
       "<matplotlib.legend.Legend at 0x1dff9fd7910>"
      ]
     },
     "execution_count": 34,
     "metadata": {},
     "output_type": "execute_result"
    },
    {
     "data": {
      "image/png": "[encoded data removed]",
      "text/plain": [
       "<Figure size 576x288 with 1 Axes>"
      ]
     },
     "metadata": {
      "needs_background": "light"
     },
     "output_type": "display_data"
    }
   ],
   "source": [
    "# Gráfico variação de Marcas e Preço Fipe\n",
    "\n",
    "# Pega o resultado do agrupamento (Marca + Preço Fipe) para exibir no gráfico\n",
    "fig = plt.figure(figsize=(8,4))\n",
    "eixo = fig.add_axes([0, 0, 1, 1])\n",
    "\n",
    "# Adicionando os Índices das marcas\n",
    "indice = np.arange(len(cars_group_make_fipe))\n",
    "\n",
    "width = 0.35  # tamanho das barras\n",
    "\n",
    "# Adicionando barras Preço <= Valor Fipe\n",
    "eixo.bar(indice - width/2, cars_group_make_fipe['Preço Fipe OK'], width, color= '#5c1e51')\n",
    "\n",
    "# Adicionando barras Preço > Valor Fipe\n",
    "eixo.bar(indice + width/2, cars_group_make_fipe['Preço Fipe Não OK'], width, color= '#d5224a')\n",
    "\n",
    "# Alterando Título e Labels\n",
    "eixo.set_title('Valor Venda x Valor Fipe - 10 Maiores Marcas', fontsize=15, pad=20)\n",
    "eixo.set_xlabel('Marcas')\n",
    "eixo.set_ylabel('Qtd Carros Preço Fipe')\n",
    "\n",
    "eixo.set_xticks(indice)\n",
    "eixo.set_xticklabels(cars_group_make_fipe['Marca'], fontsize=9)\n",
    "\n",
    "# Adicionando Legenda\n",
    "eixo.legend(['Valor <= Fipe', 'Valor > Fipe'], loc = 'lower right')"
   ]
  },
  {
   "cell_type": "markdown",
   "metadata": {},
   "source": [
    "Exibe tabela com a Quantidade e Porcentagem de carros com o Valor Fipe Ok e não OK."
   ]
  },
  {
   "cell_type": "code",
   "execution_count": 35,
   "metadata": {},
   "outputs": [
    {
     "data": {
      "text/html": [
       "<div>\n",
       "<style scoped>\n",
       "    .dataframe tbody tr th:only-of-type {\n",
       "        vertical-align: middle;\n",
       "    }\n",
       "\n",
       "    .dataframe tbody tr th {\n",
       "        vertical-align: top;\n",
       "    }\n",
       "\n",
       "    .dataframe thead th {\n",
       "        text-align: right;\n",
       "    }\n",
       "</style>\n",
       "<table border=\"1\" class=\"dataframe\">\n",
       "  <thead>\n",
       "    <tr style=\"text-align: right;\">\n",
       "      <th></th>\n",
       "      <th>Preço Fipe OK</th>\n",
       "      <th>Quantidade</th>\n",
       "      <th>Porcentagem</th>\n",
       "    </tr>\n",
       "  </thead>\n",
       "  <tbody>\n",
       "    <tr>\n",
       "      <th>0</th>\n",
       "      <td>Valor &gt; Fipe</td>\n",
       "      <td>8366</td>\n",
       "      <td>82.496795</td>\n",
       "    </tr>\n",
       "    <tr>\n",
       "      <th>1</th>\n",
       "      <td>Valor &lt;= Fipe</td>\n",
       "      <td>1775</td>\n",
       "      <td>17.503205</td>\n",
       "    </tr>\n",
       "  </tbody>\n",
       "</table>\n",
       "</div>"
      ],
      "text/plain": [
       "   Preço Fipe OK  Quantidade  Porcentagem\n",
       "0   Valor > Fipe        8366    82.496795\n",
       "1  Valor <= Fipe        1775    17.503205"
      ]
     },
     "execution_count": 35,
     "metadata": {},
     "output_type": "execute_result"
    }
   ],
   "source": [
    "# Agrupa os carros onde PriceFipeOk (o valor está <= ao valor da tabela Fipe ou valor > valor da tabela Fipe)\n",
    "\n",
    "# Fazer agrupamento somente com carros com ano <= 10 anos\n",
    "cars_10_years = now.year - df_cars['YearModel']  <= 10\n",
    "\n",
    "# Agrupa por PriceFipeOk e remove o index (PriceFipeOk)\n",
    "# somente para carros onde ano <= 10\n",
    "cars_group_fipe_10_years = df_cars[cars_10_years].groupby(['PriceFipeOk'], as_index=False)\n",
    "\n",
    "# Exibe colunas:\n",
    "# PriceFipeOk: valor único (agrupado)\n",
    "# UniqueId: quantidade de registros \n",
    "cars_group_fipe_10_years = cars_group_fipe_10_years.agg({'PriceFipeOk': np.unique, 'UniqueId': np.size}).round(2)\n",
    "\n",
    "# Renomeando as colunas para apresentá-las\n",
    "cars_group_fipe_10_years = cars_group_fipe_10_years.rename(columns={'PriceFipeOk':'Preço Fipe OK', 'UniqueId': 'Quantidade'})\n",
    "\n",
    "\n",
    "# Alterando os valores das linhas da coluna Preço Fipe OK para o label text\n",
    "# obs: Isso facilitará no uso do gráfico logo abaixo\n",
    "cars_group_fipe_10_years.loc[cars_group_fipe_10_years['Preço Fipe OK'] == True, ['Preço Fipe OK']] = 'Valor <= Fipe'\n",
    "cars_group_fipe_10_years.loc[cars_group_fipe_10_years['Preço Fipe OK'] == False, ['Preço Fipe OK']] = 'Valor > Fipe'\n",
    "\n",
    "# Calculando a Porcentagem da coluna Quantidade \n",
    "# obs: Essa coluna será usada no gráfico abaixo\n",
    "cars_group_fipe_10_years['Porcentagem'] = (cars_group_fipe_10_years['Quantidade'] / cars_group_fipe_10_years['Quantidade'].sum()) * 100\n",
    "\n",
    "# ordena o Dataframe para apresentar primeiro os valores Valor > Fipe e posteriormente Valor <= Fipe\n",
    "# obs: isso garantirá no gráfico esta ordem para utilização da configuração de cores\n",
    "cars_group_fipe_10_years = cars_group_fipe_10_years.sort_values(by=['Preço Fipe OK'], ascending=False)\n",
    "\n",
    "cars_group_fipe_10_years"
   ]
  },
  {
   "cell_type": "markdown",
   "metadata": {},
   "source": [
    "Exibe Gráfico de Preço Fipe e Porcentagem de carros"
   ]
  },
  {
   "cell_type": "code",
   "execution_count": 36,
   "metadata": {},
   "outputs": [
    {
     "data": {
      "text/plain": [
       "Text(0.5, 1.0, 'Porcentagem de Carros x Preço Fipe (até 10 anos)')"
      ]
     },
     "execution_count": 36,
     "metadata": {},
     "output_type": "execute_result"
    },
    {
     "data": {
      "image/png": "[encoded data removed]",
      "text/plain": [
       "<Figure size 576x288 with 1 Axes>"
      ]
     },
     "metadata": {},
     "output_type": "display_data"
    }
   ],
   "source": [
    "# Gráfico Quantidade de Carros Preço Fipe (valor <= valor Fipe e valor > valor Fipe)\n",
    "\n",
    "# Pega o resultado do agrupamento (Marca + Preço Fipe) para exibir no gráfico\n",
    "fig = plt.figure(figsize=(8,4))\n",
    "eixo = fig.add_axes([0, 0, 1, 1])\n",
    "\n",
    "eixo.pie(cars_group_fipe_10_years['Porcentagem'], labels=cars_group_fipe_10_years['Preço Fipe OK'], autopct='%.1f%%', colors=['#d5224a', '#5c1e51'], shadow=True)\n",
    "\n",
    "# Alterando Título e Labels\n",
    "eixo.set_title('Porcentagem de Carros x Preço Fipe (até 10 anos)', fontsize=15, pad=20)"
   ]
  },
  {
   "cell_type": "markdown",
   "metadata": {},
   "source": [
    "Adicionando coluna OdometerRecommended. Consideremos como um carro com quilometragem recomendada se a média de quilometragem por ano for <= 15.000 km rodados."
   ]
  },
  {
   "cell_type": "code",
   "execution_count": 37,
   "metadata": {},
   "outputs": [
    {
     "data": {
      "text/html": [
       "<div>\n",
       "<style scoped>\n",
       "    .dataframe tbody tr th:only-of-type {\n",
       "        vertical-align: middle;\n",
       "    }\n",
       "\n",
       "    .dataframe tbody tr th {\n",
       "        vertical-align: top;\n",
       "    }\n",
       "\n",
       "    .dataframe thead th {\n",
       "        text-align: right;\n",
       "    }\n",
       "</style>\n",
       "<table border=\"1\" class=\"dataframe\">\n",
       "  <thead>\n",
       "    <tr style=\"text-align: right;\">\n",
       "      <th></th>\n",
       "      <th>UniqueId</th>\n",
       "      <th>IPVApaid</th>\n",
       "      <th>Licensed</th>\n",
       "      <th>Warranty</th>\n",
       "      <th>OnlyOwner</th>\n",
       "      <th>Make</th>\n",
       "      <th>Model</th>\n",
       "      <th>YearModel</th>\n",
       "      <th>Odometer</th>\n",
       "      <th>Armored</th>\n",
       "      <th>Color</th>\n",
       "      <th>Price</th>\n",
       "      <th>GoodDeal</th>\n",
       "      <th>OldPrice</th>\n",
       "      <th>Fipe</th>\n",
       "      <th>PriceFipeOk</th>\n",
       "      <th>Year&gt;10Years</th>\n",
       "      <th>OdometerRecommended</th>\n",
       "    </tr>\n",
       "  </thead>\n",
       "  <tbody>\n",
       "    <tr>\n",
       "      <th>0</th>\n",
       "      <td>34283122</td>\n",
       "      <td>True</td>\n",
       "      <td>True</td>\n",
       "      <td>True</td>\n",
       "      <td>True</td>\n",
       "      <td>LAND ROVER</td>\n",
       "      <td>DISCOVERY SPORT</td>\n",
       "      <td>2018</td>\n",
       "      <td>23000.0</td>\n",
       "      <td>N</td>\n",
       "      <td>Cinza</td>\n",
       "      <td>219999.0</td>\n",
       "      <td>False</td>\n",
       "      <td>219999.0</td>\n",
       "      <td>206373.0</td>\n",
       "      <td>False</td>\n",
       "      <td>False</td>\n",
       "      <td>True</td>\n",
       "    </tr>\n",
       "    <tr>\n",
       "      <th>1</th>\n",
       "      <td>9532158</td>\n",
       "      <td>True</td>\n",
       "      <td>True</td>\n",
       "      <td>False</td>\n",
       "      <td>True</td>\n",
       "      <td>HYUNDAI</td>\n",
       "      <td>AZERA</td>\n",
       "      <td>2010</td>\n",
       "      <td>71496.0</td>\n",
       "      <td>N</td>\n",
       "      <td>Preto</td>\n",
       "      <td>26500.0</td>\n",
       "      <td>False</td>\n",
       "      <td>26500.0</td>\n",
       "      <td>31520.0</td>\n",
       "      <td>True</td>\n",
       "      <td>True</td>\n",
       "      <td>True</td>\n",
       "    </tr>\n",
       "    <tr>\n",
       "      <th>2</th>\n",
       "      <td>18996954</td>\n",
       "      <td>True</td>\n",
       "      <td>True</td>\n",
       "      <td>False</td>\n",
       "      <td>True</td>\n",
       "      <td>LAND ROVER</td>\n",
       "      <td>DISCOVERY 4</td>\n",
       "      <td>2013</td>\n",
       "      <td>97411.0</td>\n",
       "      <td>N</td>\n",
       "      <td>Preto</td>\n",
       "      <td>159900.0</td>\n",
       "      <td>False</td>\n",
       "      <td>159900.0</td>\n",
       "      <td>118552.0</td>\n",
       "      <td>False</td>\n",
       "      <td>False</td>\n",
       "      <td>True</td>\n",
       "    </tr>\n",
       "    <tr>\n",
       "      <th>3</th>\n",
       "      <td>35205229</td>\n",
       "      <td>True</td>\n",
       "      <td>True</td>\n",
       "      <td>False</td>\n",
       "      <td>True</td>\n",
       "      <td>LAND ROVER</td>\n",
       "      <td>DISCOVERY 4</td>\n",
       "      <td>2011</td>\n",
       "      <td>107200.0</td>\n",
       "      <td>S</td>\n",
       "      <td>Preto</td>\n",
       "      <td>75500.0</td>\n",
       "      <td>False</td>\n",
       "      <td>75500.0</td>\n",
       "      <td>91943.0</td>\n",
       "      <td>True</td>\n",
       "      <td>False</td>\n",
       "      <td>True</td>\n",
       "    </tr>\n",
       "    <tr>\n",
       "      <th>4</th>\n",
       "      <td>36073749</td>\n",
       "      <td>True</td>\n",
       "      <td>True</td>\n",
       "      <td>False</td>\n",
       "      <td>True</td>\n",
       "      <td>VOLKSWAGEN</td>\n",
       "      <td>JETTA</td>\n",
       "      <td>2012</td>\n",
       "      <td>92000.0</td>\n",
       "      <td>N</td>\n",
       "      <td>Branco</td>\n",
       "      <td>45000.0</td>\n",
       "      <td>True</td>\n",
       "      <td>45000.0</td>\n",
       "      <td>51408.0</td>\n",
       "      <td>True</td>\n",
       "      <td>False</td>\n",
       "      <td>True</td>\n",
       "    </tr>\n",
       "    <tr>\n",
       "      <th>...</th>\n",
       "      <td>...</td>\n",
       "      <td>...</td>\n",
       "      <td>...</td>\n",
       "      <td>...</td>\n",
       "      <td>...</td>\n",
       "      <td>...</td>\n",
       "      <td>...</td>\n",
       "      <td>...</td>\n",
       "      <td>...</td>\n",
       "      <td>...</td>\n",
       "      <td>...</td>\n",
       "      <td>...</td>\n",
       "      <td>...</td>\n",
       "      <td>...</td>\n",
       "      <td>...</td>\n",
       "      <td>...</td>\n",
       "      <td>...</td>\n",
       "      <td>...</td>\n",
       "    </tr>\n",
       "    <tr>\n",
       "      <th>11971</th>\n",
       "      <td>34269733</td>\n",
       "      <td>True</td>\n",
       "      <td>True</td>\n",
       "      <td>False</td>\n",
       "      <td>False</td>\n",
       "      <td>CHEVROLET</td>\n",
       "      <td>COBALT</td>\n",
       "      <td>2019</td>\n",
       "      <td>50000.0</td>\n",
       "      <td>N</td>\n",
       "      <td>Cinza</td>\n",
       "      <td>59700.0</td>\n",
       "      <td>False</td>\n",
       "      <td>59700.0</td>\n",
       "      <td>60230.0</td>\n",
       "      <td>True</td>\n",
       "      <td>False</td>\n",
       "      <td>False</td>\n",
       "    </tr>\n",
       "    <tr>\n",
       "      <th>11972</th>\n",
       "      <td>36115810</td>\n",
       "      <td>False</td>\n",
       "      <td>True</td>\n",
       "      <td>True</td>\n",
       "      <td>True</td>\n",
       "      <td>VOLKSWAGEN</td>\n",
       "      <td>NIVUS</td>\n",
       "      <td>2021</td>\n",
       "      <td>0.0</td>\n",
       "      <td>N</td>\n",
       "      <td>Cinza</td>\n",
       "      <td>118880.0</td>\n",
       "      <td>False</td>\n",
       "      <td>118880.0</td>\n",
       "      <td>98242.0</td>\n",
       "      <td>False</td>\n",
       "      <td>False</td>\n",
       "      <td>False</td>\n",
       "    </tr>\n",
       "    <tr>\n",
       "      <th>11973</th>\n",
       "      <td>36115143</td>\n",
       "      <td>True</td>\n",
       "      <td>True</td>\n",
       "      <td>False</td>\n",
       "      <td>True</td>\n",
       "      <td>FIAT</td>\n",
       "      <td>ARGO</td>\n",
       "      <td>2020</td>\n",
       "      <td>35113.0</td>\n",
       "      <td>N</td>\n",
       "      <td>Preto</td>\n",
       "      <td>53990.0</td>\n",
       "      <td>False</td>\n",
       "      <td>53990.0</td>\n",
       "      <td>48609.0</td>\n",
       "      <td>False</td>\n",
       "      <td>False</td>\n",
       "      <td>False</td>\n",
       "    </tr>\n",
       "    <tr>\n",
       "      <th>11974</th>\n",
       "      <td>36111820</td>\n",
       "      <td>True</td>\n",
       "      <td>True</td>\n",
       "      <td>False</td>\n",
       "      <td>True</td>\n",
       "      <td>RENAULT</td>\n",
       "      <td>KWID</td>\n",
       "      <td>2020</td>\n",
       "      <td>29778.0</td>\n",
       "      <td>N</td>\n",
       "      <td>Branco</td>\n",
       "      <td>42290.0</td>\n",
       "      <td>False</td>\n",
       "      <td>42290.0</td>\n",
       "      <td>38175.0</td>\n",
       "      <td>False</td>\n",
       "      <td>False</td>\n",
       "      <td>False</td>\n",
       "    </tr>\n",
       "    <tr>\n",
       "      <th>11975</th>\n",
       "      <td>36111784</td>\n",
       "      <td>True</td>\n",
       "      <td>True</td>\n",
       "      <td>False</td>\n",
       "      <td>True</td>\n",
       "      <td>RENAULT</td>\n",
       "      <td>KWID</td>\n",
       "      <td>2021</td>\n",
       "      <td>25989.0</td>\n",
       "      <td>N</td>\n",
       "      <td>Branco</td>\n",
       "      <td>45190.0</td>\n",
       "      <td>False</td>\n",
       "      <td>45190.0</td>\n",
       "      <td>40421.0</td>\n",
       "      <td>False</td>\n",
       "      <td>False</td>\n",
       "      <td>False</td>\n",
       "    </tr>\n",
       "  </tbody>\n",
       "</table>\n",
       "<p>11209 rows × 18 columns</p>\n",
       "</div>"
      ],
      "text/plain": [
       "       UniqueId  IPVApaid  Licensed  Warranty  OnlyOwner        Make  \\\n",
       "0      34283122      True      True      True       True  LAND ROVER   \n",
       "1       9532158      True      True     False       True     HYUNDAI   \n",
       "2      18996954      True      True     False       True  LAND ROVER   \n",
       "3      35205229      True      True     False       True  LAND ROVER   \n",
       "4      36073749      True      True     False       True  VOLKSWAGEN   \n",
       "...         ...       ...       ...       ...        ...         ...   \n",
       "11971  34269733      True      True     False      False   CHEVROLET   \n",
       "11972  36115810     False      True      True       True  VOLKSWAGEN   \n",
       "11973  36115143      True      True     False       True        FIAT   \n",
       "11974  36111820      True      True     False       True     RENAULT   \n",
       "11975  36111784      True      True     False       True     RENAULT   \n",
       "\n",
       "                 Model  YearModel  Odometer Armored   Color     Price  \\\n",
       "0      DISCOVERY SPORT       2018   23000.0       N   Cinza  219999.0   \n",
       "1                AZERA       2010   71496.0       N   Preto   26500.0   \n",
       "2          DISCOVERY 4       2013   97411.0       N   Preto  159900.0   \n",
       "3          DISCOVERY 4       2011  107200.0       S   Preto   75500.0   \n",
       "4                JETTA       2012   92000.0       N  Branco   45000.0   \n",
       "...                ...        ...       ...     ...     ...       ...   \n",
       "11971           COBALT       2019   50000.0       N   Cinza   59700.0   \n",
       "11972            NIVUS       2021       0.0       N   Cinza  118880.0   \n",
       "11973             ARGO       2020   35113.0       N   Preto   53990.0   \n",
       "11974             KWID       2020   29778.0       N  Branco   42290.0   \n",
       "11975             KWID       2021   25989.0       N  Branco   45190.0   \n",
       "\n",
       "      GoodDeal  OldPrice      Fipe  PriceFipeOk  Year>10Years  \\\n",
       "0        False  219999.0  206373.0        False         False   \n",
       "1        False   26500.0   31520.0         True          True   \n",
       "2        False  159900.0  118552.0        False         False   \n",
       "3        False   75500.0   91943.0         True         False   \n",
       "4         True   45000.0   51408.0         True         False   \n",
       "...        ...       ...       ...          ...           ...   \n",
       "11971    False   59700.0   60230.0         True         False   \n",
       "11972    False  118880.0   98242.0        False         False   \n",
       "11973    False   53990.0   48609.0        False         False   \n",
       "11974    False   42290.0   38175.0        False         False   \n",
       "11975    False   45190.0   40421.0        False         False   \n",
       "\n",
       "       OdometerRecommended  \n",
       "0                     True  \n",
       "1                     True  \n",
       "2                     True  \n",
       "3                     True  \n",
       "4                     True  \n",
       "...                    ...  \n",
       "11971                False  \n",
       "11972                False  \n",
       "11973                False  \n",
       "11974                False  \n",
       "11975                False  \n",
       "\n",
       "[11209 rows x 18 columns]"
      ]
     },
     "execution_count": 37,
     "metadata": {},
     "output_type": "execute_result"
    }
   ],
   "source": [
    "df_cars['OdometerRecommended'] = (df_cars['Odometer'] / (now.year - df_cars['YearModel']) < 15000)\n",
    "df_cars"
   ]
  },
  {
   "cell_type": "markdown",
   "metadata": {},
   "source": [
    "Relação da coluna GoodDeal com a coluna OdometerRecommended"
   ]
  },
  {
   "cell_type": "code",
   "execution_count": 38,
   "metadata": {},
   "outputs": [
    {
     "data": {
      "text/plain": [
       "281"
      ]
     },
     "execution_count": 38,
     "metadata": {},
     "output_type": "execute_result"
    }
   ],
   "source": [
    "(df_cars['OdometerRecommended'] & df_cars['GoodDeal']).sum()"
   ]
  },
  {
   "cell_type": "markdown",
   "metadata": {},
   "source": [
    "## 4.2 Correlação"
   ]
  },
  {
   "cell_type": "markdown",
   "metadata": {},
   "source": [
    "Nessa seção será apresentando os resultados relacionados a correlação entre os atributos do DataFrame."
   ]
  },
  {
   "cell_type": "markdown",
   "metadata": {},
   "source": [
    "A relação entre duas variáveis ​​é chamada de correlação. Em estatística, o método mais comum para calcular a correlação é o coeficiente de correlação de Pearson. Pode ter três valores da seguinte forma:\n",
    "\n",
    "* Valor do coeficiente = 1 - Representa a correlação positiva total entre as variáveis.\n",
    "* Valor do coeficiente = -1 - Representa a correlação negativa total entre as variáveis.\n",
    "* Valor do coeficiente = 0 - Não representa nenhuma correlação entre as variáveis.\n",
    "\n",
    "É sempre bom revisarmos as correlações de pares dos atributos em nosso conjunto de dados antes de usá-lo no projeto de ML, porque alguns algoritmos de aprendizado de máquina, como regressão linear e regressão logística, terão um desempenho ruim se tivermos atributos altamente correlacionados. \n",
    "\n",
    "Em Python, podemos calcular facilmente uma matriz de correlação de atributos de conjunto de dados com a ajuda da função corr () no Pandas DataFrame."
   ]
  },
  {
   "cell_type": "markdown",
   "metadata": {},
   "source": [
    "### 4.2.1 Matriz de Correlação"
   ]
  },
  {
   "cell_type": "markdown",
   "metadata": {},
   "source": [
    "Preparando os dados que serão utilizados na análise. Neste momento já estamos preparando os dados para a classificação e excluindo alguns atributos que não são relevantes, isso facilitará na nossa análise."
   ]
  },
  {
   "cell_type": "code",
   "execution_count": 39,
   "metadata": {},
   "outputs": [],
   "source": [
    "# Fazendo uma cópia do dataframe original\n",
    "df_cars_class = df_cars.copy()\n",
    "\n",
    "# Deletando atributos que não serão utilizados\n",
    "del df_cars_class['UniqueId']\n",
    "del df_cars_class['Make']\n",
    "del df_cars_class['Model']\n",
    "del df_cars_class['Licensed']\n",
    "\n",
    "del df_cars_class['Year>10Years']\n",
    "\n",
    "# Convertendo o tipo dos atributos\n",
    "df_cars_class['OdometerRecommended'] = df_cars_class['OdometerRecommended'].astype('int64')\n",
    "df_cars_class['IPVApaid'] = df_cars_class['IPVApaid'].astype('int64')\n",
    "#df_cars_class['Licensed'] = df_cars_class['Licensed'].astype('int64')\n",
    "df_cars_class['Warranty'] = df_cars_class['Warranty'].astype('int64')\n",
    "df_cars_class['OnlyOwner'] = df_cars_class['OnlyOwner'].astype('int64')\n",
    "df_cars_class['PriceFipeOk'] = df_cars_class['PriceFipeOk'].astype('int64')\n",
    "#df_cars_class['Year>10Years'] = df_cars_class['Year>10Years'].astype('int64')\n",
    "\n",
    "# Convertendo dados categóricos em numéricos\n",
    "#creating labelEncoder\n",
    "le = preprocessing.LabelEncoder()\n",
    "# Converting string labels into numbers.\n",
    "df_cars_class['Armored']=le.fit_transform(df_cars_class['Armored'])\n",
    "df_cars_class['Color']=le.fit_transform(df_cars_class['Color'])"
   ]
  },
  {
   "cell_type": "markdown",
   "metadata": {},
   "source": [
    "Antes de aplicarmos os algoritmos de Machine Learning, iremos realizar algumas análises sobre os dados.\n",
    "\n",
    "Para determinar a correlação dos atributos usaremos em forma gráfica a Matriz de Correlação."
   ]
  },
  {
   "cell_type": "code",
   "execution_count": 40,
   "metadata": {
    "scrolled": true
   },
   "outputs": [
    {
     "data": {
      "text/plain": [
       "Text(-21.000000000000007, 0.5, 'características do núcleo da célula')"
      ]
     },
     "execution_count": 40,
     "metadata": {},
     "output_type": "execute_result"
    },
    {
     "data": {
      "image/png": "[encoded data removed]",
      "text/plain": [
       "<Figure size 576x288 with 2 Axes>"
      ]
     },
     "metadata": {
      "needs_background": "light"
     },
     "output_type": "display_data"
    }
   ],
   "source": [
    "# Gráfico de Matriz de Correlação \n",
    "df_small = df_cars_class.copy()\n",
    "\n",
    "# O corr() método do Pandas DataFrame  é usado para calcular a matriz. \n",
    "# Por padrão, ele calcula o coeficiente de correlação de Pearson\n",
    "correlation_mat = df_small.corr(method='pearson')\n",
    "\n",
    "# Definindo as configurações do Gráfico\n",
    "fig = plt.figure(figsize=(8,4))\n",
    "eixo = fig.add_axes([0, 0, 1, 1])\n",
    "\n",
    "# Usando o método heatmap para traçar a Matriz\n",
    "# O parâmetro ' annot=True' exibe os valores do coeficiente de correlação em cada célula.\n",
    "sns.heatmap(correlation_mat, annot = True, linewidth=0.5)\n",
    "\n",
    "# Definindo titulo e labels do gráfico\n",
    "eixo.set_title('Matriz de Correlação dos atributos', fontsize=15, pad=20)\n",
    "eixo.set_xlabel (\"características do núcleo da célula\")\n",
    "eixo.set_ylabel (\"características do núcleo da célula\")\n"
   ]
  },
  {
   "cell_type": "markdown",
   "metadata": {},
   "source": [
    "Consideremos o seguinte entendimento para a Matriz de correlação:\n",
    "    \n",
    "* Cada célula da grade representa o valor do coeficiente de correlação entre duas variáveis.\n",
    "* O valor na posição (a, b) representa o coeficiente de correlação entre os recursos na linha a e coluna b. Isso será igual ao valor na posição (b, a)\n",
    "* É uma   matriz quadrada - cada linha representa uma variável e todas as colunas representam as mesmas variáveis ​​que linhas, portanto, o número de linhas = número de colunas.\n",
    "* É uma   matriz simétrica - isso faz sentido porque a correlação entre a, b será a mesma que entre b, a.\n",
    "* Todos os  elementos diagonais são 1 . Como os elementos diagonais representam a correlação de cada variável consigo mesma, ela sempre será igual a 1.\n",
    "* Os pontos dos eixos denotam o recurso que cada um deles representa.\n",
    "* Um grande valor positivo (próximo a 1,0) indica uma forte correlação positiva, ou seja, se o valor de uma das variáveis ​​aumenta, o valor da outra variável também aumenta.\n",
    "* Um grande valor negativo (próximo a -1,0) indica uma forte correlação negativa, ou seja, o valor de uma variável diminui com o aumento da outra e vice-versa.\n",
    "* Um valor próximo a 0 (positivo ou negativo) indica a ausência de qualquer correlação entre as duas variáveis ​​e, portanto, essas variáveis ​​são independentes uma da outra.\n",
    "* Cada célula na matriz acima também é representada por tons de uma cor. Aqui, os tons mais escuros da cor indicam valores menores, enquanto os tons mais brilhantes correspondem a valores maiores (perto de 1).\n",
    "Esta escala é dada com a ajuda de uma barra colorida no lado direito do gráfico."
   ]
  },
  {
   "cell_type": "markdown",
   "metadata": {},
   "source": [
    "A partir da saída acima da matriz de correlação, podemos ver que ela é simétrica, ou seja, a parte inferior esquerda é igual à parte superior direita. Observa-se também que cada variável se correlaciona positivamente entre si."
   ]
  },
  {
   "cell_type": "markdown",
   "metadata": {},
   "source": [
    "### 4.2.2 Classificando a matriz de correlação\n"
   ]
  },
  {
   "cell_type": "markdown",
   "metadata": {},
   "source": [
    "Se os dados fornecidos tiverem um grande número de recursos, a matriz de correlação pode se tornar muito grande e, portanto, difícil de interpretar.\n",
    "\n",
    "Às vezes, podemos querer classificar os valores na matriz e ver a intensidade da correlação entre os vários pares de recursos em ordem crescente ou decrescente.\n"
   ]
  },
  {
   "cell_type": "markdown",
   "metadata": {},
   "source": [
    "Primeiro, converteremos a matriz fornecida em uma série de valores unidimensional."
   ]
  },
  {
   "cell_type": "markdown",
   "metadata": {},
   "source": [
    "O  unstack método no Pandas DataFrame retorna uma Série com  MultiIndex . Ou seja, cada valor na Série é representado por mais de um índice, que neste caso são os índices de linha e coluna que são os nomes dos recursos.\n",
    "\n"
   ]
  },
  {
   "cell_type": "code",
   "execution_count": 41,
   "metadata": {},
   "outputs": [
    {
     "data": {
      "text/plain": [
       "IPVApaid             IPVApaid               1.000000\n",
       "                     Warranty              -0.126517\n",
       "                     OnlyOwner              0.466906\n",
       "                     YearModel             -0.057668\n",
       "                     Odometer               0.115902\n",
       "                                              ...   \n",
       "OdometerRecommended  Price                  0.028933\n",
       "                     OldPrice               0.028934\n",
       "                     Fipe                   0.065949\n",
       "                     PriceFipeOk           -0.052857\n",
       "                     OdometerRecommended    1.000000\n",
       "Length: 144, dtype: float64"
      ]
     },
     "execution_count": 41,
     "metadata": {},
     "output_type": "execute_result"
    }
   ],
   "source": [
    "correlation_mat = df_small.corr(method='pearson')\n",
    "\n",
    "corr_pairs = correlation_mat.unstack()\n",
    "\n",
    "corr_pairs"
   ]
  },
  {
   "cell_type": "markdown",
   "metadata": {},
   "source": [
    "Vamos agora classificar esses valores usando o  sort_values() método da Série Pandas."
   ]
  },
  {
   "cell_type": "markdown",
   "metadata": {},
   "source": [
    "Podemos ver que cada valor é repetido duas vezes na saída classificada. Isso ocorre porque nossa matriz de correlação era uma matriz simétrica e cada par de características ocorria duas vezes nela.\n",
    "\n",
    "No entanto, agora temos os valores de coeficiente de correlação classificados de todos os pares de recursos e podemos tomar decisões de acordo."
   ]
  },
  {
   "cell_type": "code",
   "execution_count": 42,
   "metadata": {},
   "outputs": [
    {
     "name": "stdout",
     "output_type": "stream",
     "text": [
      "YearModel            Odometer              -0.598858\n",
      "Odometer             YearModel             -0.598858\n",
      "YearModel            OdometerRecommended   -0.480630\n",
      "OdometerRecommended  YearModel             -0.480630\n",
      "Odometer             Warranty              -0.314356\n",
      "                                              ...   \n",
      "YearModel            YearModel              1.000000\n",
      "OnlyOwner            OnlyOwner              1.000000\n",
      "Warranty             Warranty               1.000000\n",
      "PriceFipeOk          PriceFipeOk            1.000000\n",
      "OdometerRecommended  OdometerRecommended    1.000000\n",
      "Length: 144, dtype: float64\n"
     ]
    }
   ],
   "source": [
    "sorted_pairs = corr_pairs.sort_values(kind=\"quicksort\")\n",
    "\n",
    "print(sorted_pairs)"
   ]
  },
  {
   "cell_type": "markdown",
   "metadata": {},
   "source": [
    "#### 4.2.2.1 Seleção de pares de correlação negativa"
   ]
  },
  {
   "cell_type": "markdown",
   "metadata": {},
   "source": [
    "Podemos querer selecionar pares de características com uma faixa particular de valores do coeficiente de correlação.\n",
    "\n",
    "Vamos ver como podemos escolher pares com correlação negativa a partir dos pares classificados que geramos na seção anterior."
   ]
  },
  {
   "cell_type": "code",
   "execution_count": 43,
   "metadata": {},
   "outputs": [
    {
     "name": "stdout",
     "output_type": "stream",
     "text": [
      "YearModel            Odometer              -0.598858\n",
      "Odometer             YearModel             -0.598858\n",
      "YearModel            OdometerRecommended   -0.480630\n",
      "OdometerRecommended  YearModel             -0.480630\n",
      "Odometer             Warranty              -0.314356\n",
      "Warranty             Odometer              -0.314356\n",
      "OnlyOwner            OdometerRecommended   -0.262892\n",
      "OdometerRecommended  OnlyOwner             -0.262892\n",
      "Odometer             Fipe                  -0.256156\n",
      "Fipe                 Odometer              -0.256156\n",
      "Odometer             OnlyOwner             -0.182078\n",
      "OnlyOwner            Odometer              -0.182078\n",
      "Color                YearModel             -0.174125\n",
      "YearModel            Color                 -0.174125\n",
      "                     Armored               -0.140176\n",
      "Armored              YearModel             -0.140176\n",
      "PriceFipeOk          YearModel             -0.135965\n",
      "YearModel            PriceFipeOk           -0.135965\n",
      "Warranty             IPVApaid              -0.126517\n",
      "IPVApaid             Warranty              -0.126517\n",
      "OnlyOwner            Color                 -0.108559\n",
      "Color                OnlyOwner             -0.108559\n",
      "IPVApaid             OdometerRecommended   -0.105702\n",
      "OdometerRecommended  IPVApaid              -0.105702\n",
      "Warranty             PriceFipeOk           -0.104708\n",
      "PriceFipeOk          Warranty              -0.104708\n",
      "Armored              OnlyOwner             -0.087399\n",
      "OnlyOwner            Armored               -0.087399\n",
      "IPVApaid             Fipe                  -0.081550\n",
      "Fipe                 IPVApaid              -0.081550\n",
      "                     Color                 -0.067096\n",
      "Color                Fipe                  -0.067096\n",
      "YearModel            IPVApaid              -0.057668\n",
      "IPVApaid             YearModel             -0.057668\n",
      "OdometerRecommended  PriceFipeOk           -0.052857\n",
      "PriceFipeOk          OdometerRecommended   -0.052857\n",
      "                     Fipe                  -0.049079\n",
      "Fipe                 PriceFipeOk           -0.049079\n",
      "Warranty             Color                 -0.042015\n",
      "Color                Warranty              -0.042015\n",
      "PriceFipeOk          OnlyOwner             -0.039389\n",
      "OnlyOwner            PriceFipeOk           -0.039389\n",
      "IPVApaid             Color                 -0.032650\n",
      "Color                IPVApaid              -0.032650\n",
      "PriceFipeOk          OldPrice              -0.018926\n",
      "OldPrice             PriceFipeOk           -0.018926\n",
      "PriceFipeOk          Price                 -0.018926\n",
      "Price                PriceFipeOk           -0.018926\n",
      "Odometer             OldPrice              -0.015440\n",
      "OldPrice             Odometer              -0.015440\n",
      "Price                Odometer              -0.015439\n",
      "Odometer             Price                 -0.015439\n",
      "OdometerRecommended  Warranty              -0.014165\n",
      "Warranty             OdometerRecommended   -0.014165\n",
      "OnlyOwner            Price                 -0.005890\n",
      "Price                OnlyOwner             -0.005890\n",
      "OldPrice             OnlyOwner             -0.005889\n",
      "OnlyOwner            OldPrice              -0.005889\n",
      "dtype: float64\n"
     ]
    }
   ],
   "source": [
    "negative_pairs = sorted_pairs[sorted_pairs < 0]\n",
    "\n",
    "print(negative_pairs)"
   ]
  },
  {
   "cell_type": "markdown",
   "metadata": {},
   "source": [
    "#### 4.2.2.2 Seleção de pares de correlação fortes (magnitude maior que 0,5)"
   ]
  },
  {
   "cell_type": "markdown",
   "metadata": {},
   "source": [
    "Vamos usar a mesma abordagem para escolher recursos fortemente relacionados. Ou seja, tentaremos filtrar os pares de recursos cujos valores de coeficiente de correlação são maiores que 0,5 ou menores que -0,5."
   ]
  },
  {
   "cell_type": "code",
   "execution_count": 44,
   "metadata": {},
   "outputs": [
    {
     "name": "stdout",
     "output_type": "stream",
     "text": [
      "YearModel            Odometer              -0.598858\n",
      "Odometer             YearModel             -0.598858\n",
      "OldPrice             Price                  1.000000\n",
      "Price                OldPrice               1.000000\n",
      "IPVApaid             IPVApaid               1.000000\n",
      "Fipe                 Fipe                   1.000000\n",
      "OldPrice             OldPrice               1.000000\n",
      "Price                Price                  1.000000\n",
      "Color                Color                  1.000000\n",
      "Armored              Armored                1.000000\n",
      "Odometer             Odometer               1.000000\n",
      "YearModel            YearModel              1.000000\n",
      "OnlyOwner            OnlyOwner              1.000000\n",
      "Warranty             Warranty               1.000000\n",
      "PriceFipeOk          PriceFipeOk            1.000000\n",
      "OdometerRecommended  OdometerRecommended    1.000000\n",
      "dtype: float64\n"
     ]
    }
   ],
   "source": [
    "strong_pairs = sorted_pairs[abs(sorted_pairs) > 0.5]\n",
    "\n",
    "print(strong_pairs)"
   ]
  },
  {
   "cell_type": "markdown",
   "metadata": {},
   "source": [
    "### 4.2.3 Verificando assimetria dos atributos"
   ]
  },
  {
   "cell_type": "markdown",
   "metadata": {},
   "source": [
    "A assimetria pode ser definida como a distribuição que se presume ser gaussiana, mas parece distorcida ou deslocada em uma direção ou outra, para a esquerda ou direita. Rever a assimetria de atributos é uma das tarefas importantes devido aos seguintes motivos:\n",
    "\n",
    "* A presença de assimetria nos dados requer a correção no estágio de preparação dos dados para que possamos obter mais precisão do nosso modelo.\n",
    "* A maioria dos algoritmos de ML assume que os dados têm uma distribuição Gaussiana, ou seja, dados normais ou curvos em sino.\n",
    "\n",
    "Em Python, podemos calcular facilmente a inclinação de cada atributo usando a função skew () no Pandas DataFrame."
   ]
  },
  {
   "cell_type": "markdown",
   "metadata": {},
   "source": [
    "A partir da saída abaixo, uma inclinação positiva ou negativa pode ser observada. Se o valor estiver mais próximo de zero, ele mostra menos inclinação."
   ]
  },
  {
   "cell_type": "code",
   "execution_count": 45,
   "metadata": {
    "scrolled": true
   },
   "outputs": [
    {
     "data": {
      "text/plain": [
       "YearModel              -2.267743\n",
       "IPVApaid               -0.082694\n",
       "Color                   0.025632\n",
       "OnlyOwner               0.216288\n",
       "OdometerRecommended     0.256008\n",
       "PriceFipeOk             1.624716\n",
       "Warranty                2.097096\n",
       "Armored                 3.327714\n",
       "GoodDeal                3.487174\n",
       "Odometer                6.520480\n",
       "Fipe                   11.044795\n",
       "Price                  62.367798\n",
       "OldPrice               62.367806\n",
       "dtype: float64"
      ]
     },
     "execution_count": 45,
     "metadata": {},
     "output_type": "execute_result"
    }
   ],
   "source": [
    "# Realizando a ordenação dos resultados\n",
    "df_cars_class.skew().sort_values(kind=\"quicksort\")"
   ]
  },
  {
   "cell_type": "markdown",
   "metadata": {},
   "source": [
    "### 4.2.4 Gráficos univariados: Compreendendo os atributos de forma independente"
   ]
  },
  {
   "cell_type": "markdown",
   "metadata": {},
   "source": [
    "O tipo mais simples de visualização é a visualização de variável única ou “univariada”. Com a ajuda da visualização univariada, podemos entender cada atributo do nosso conjunto de dados de forma independente. O Histograma é umas das técnicas em Python para implementar a visualização univariada.\n",
    "\n"
   ]
  },
  {
   "cell_type": "markdown",
   "metadata": {},
   "source": [
    "#### 4.2.4.1 Gráficos de Histogramas"
   ]
  },
  {
   "cell_type": "markdown",
   "metadata": {},
   "source": [
    "Os histogramas agrupam os dados em caixas e é a maneira mais rápida de se ter uma ideia sobre a distribuição de cada atributo no conjunto de dados. A seguir estão algumas das características dos histogramas.\n",
    "\n",
    "* Ele nos fornece uma contagem do número de observações em cada compartimento criado para visualização.\n",
    "* Pela forma da caixa, podemos facilmente observar a distribuição, ou seja, se ela é gaussiana, distorcida ou exponencial.\n",
    "* Os histogramas também nos ajudam a ver possíveis outliers."
   ]
  },
  {
   "cell_type": "code",
   "execution_count": 46,
   "metadata": {},
   "outputs": [
    {
     "data": {
      "image/png": "[encoded data removed]",
      "text/plain": [
       "<Figure size 864x720 with 12 Axes>"
      ]
     },
     "metadata": {
      "needs_background": "light"
     },
     "output_type": "display_data"
    }
   ],
   "source": [
    "# Gráfico Histogramas \n",
    "df_small = df_cars_class.copy()\n",
    "\n",
    "# Definindo as configurações do Gráfico\n",
    "df_small.hist(color=\"#cf1e4d\", figsize=(12,10))\n",
    "\n",
    "plt.show()"
   ]
  },
  {
   "cell_type": "markdown",
   "metadata": {},
   "source": [
    "## 5. Criação de Modelos de Machine Learning"
   ]
  },
  {
   "cell_type": "markdown",
   "metadata": {},
   "source": [
    "Nessa seção iremos aplicar alguns algoritmos de Machine Learning para analisar a classificação do nosso modelo."
   ]
  },
  {
   "cell_type": "markdown",
   "metadata": {},
   "source": [
    "### 5.1 Analisando e preparando os dados"
   ]
  },
  {
   "cell_type": "markdown",
   "metadata": {},
   "source": [
    "Criando uma coluna para representar as classes 0 e 1, para classificar os carros como \"GoodDeal\" (1 - Sim ou 2 - Não).\n",
    "Baseado no valor da Coluna booleana GoodDeal."
   ]
  },
  {
   "cell_type": "code",
   "execution_count": 47,
   "metadata": {},
   "outputs": [],
   "source": [
    "# criando coluna Class\n",
    "df_cars_class['Class'] = (df_cars['GoodDeal']).astype('int64')\n",
    "\n",
    "# Deletando a coluna GoodDeal, pois agora seu valor está na coluna Class\n",
    "del df_cars_class['GoodDeal']"
   ]
  },
  {
   "cell_type": "markdown",
   "metadata": {},
   "source": [
    "Exibindo a quantidade de carros de cada classe (se é ou não um bom negócio)."
   ]
  },
  {
   "cell_type": "code",
   "execution_count": 48,
   "metadata": {},
   "outputs": [
    {
     "data": {
      "text/plain": [
       "Class\n",
       "0    10466\n",
       "1      743\n",
       "Name: PriceFipeOk, dtype: int64"
      ]
     },
     "execution_count": 48,
     "metadata": {},
     "output_type": "execute_result"
    }
   ],
   "source": [
    "df_cars_class.groupby('Class')['PriceFipeOk'].count()\n"
   ]
  },
  {
   "cell_type": "markdown",
   "metadata": {},
   "source": [
    "Exibindo informações do DataFrame."
   ]
  },
  {
   "cell_type": "code",
   "execution_count": 49,
   "metadata": {},
   "outputs": [
    {
     "name": "stdout",
     "output_type": "stream",
     "text": [
      "<class 'pandas.core.frame.DataFrame'>\n",
      "Int64Index: 11209 entries, 0 to 11975\n",
      "Data columns (total 13 columns):\n",
      " #   Column               Non-Null Count  Dtype  \n",
      "---  ------               --------------  -----  \n",
      " 0   IPVApaid             11209 non-null  int64  \n",
      " 1   Warranty             11209 non-null  int64  \n",
      " 2   OnlyOwner            11209 non-null  int64  \n",
      " 3   YearModel            11209 non-null  int64  \n",
      " 4   Odometer             11209 non-null  float64\n",
      " 5   Armored              11209 non-null  int32  \n",
      " 6   Color                11209 non-null  int32  \n",
      " 7   Price                11209 non-null  float64\n",
      " 8   OldPrice             11209 non-null  float64\n",
      " 9   Fipe                 11209 non-null  float64\n",
      " 10  PriceFipeOk          11209 non-null  int64  \n",
      " 11  OdometerRecommended  11209 non-null  int64  \n",
      " 12  Class                11209 non-null  int64  \n",
      "dtypes: float64(4), int32(2), int64(7)\n",
      "memory usage: 1.4 MB\n"
     ]
    }
   ],
   "source": [
    "df_cars_class.info()"
   ]
  },
  {
   "cell_type": "markdown",
   "metadata": {},
   "source": [
    "Definindo as variáveis que serão utilizadas para os modelos.\n",
    "\n",
    "Onde:\n",
    "X= todas as colunas, removendo apenas a coluna de classificação \"Class\".\n",
    "y= pega somente a coluna de classificação \"Class\"."
   ]
  },
  {
   "cell_type": "code",
   "execution_count": 50,
   "metadata": {},
   "outputs": [],
   "source": [
    "X = df_cars_class.drop('Class', axis=1)\n",
    "y = df_cars_class['Class']"
   ]
  },
  {
   "cell_type": "markdown",
   "metadata": {},
   "source": [
    "Dividindo base de Teste e de Treino. \n",
    "\n",
    "Consideramos 70% da base para treino e 30% para teste."
   ]
  },
  {
   "cell_type": "code",
   "execution_count": 51,
   "metadata": {},
   "outputs": [],
   "source": [
    "# Divide o DataFrame em teste e treino\n",
    "# 70% treino\n",
    "# 30% teste\n",
    "train_X, test_X, train_y, test_y = train_test_split(X, y, train_size=0.70, test_size=0.30, stratify=y)"
   ]
  },
  {
   "cell_type": "markdown",
   "metadata": {},
   "source": [
    "### 5.2 Aplicando algoritmos de classificação"
   ]
  },
  {
   "cell_type": "markdown",
   "metadata": {},
   "source": [
    "Serão aplicados os seguintes algoritmos para classficação do nosso modelo: KNN (K-Nearest Neighbor) e ."
   ]
  },
  {
   "cell_type": "markdown",
   "metadata": {},
   "source": [
    "### 5.2.1. KNN (K-Nearest Neighbor) "
   ]
  },
  {
   "cell_type": "markdown",
   "metadata": {},
   "source": [
    "Nessa seção será apresentado a utilização do algoritmo KNN para classificação dos dados."
   ]
  },
  {
   "cell_type": "markdown",
   "metadata": {},
   "source": [
    "O algoritmo K-mais próximos vizinhos (KNN) é um tipo de algoritmo de ML supervisionado que pode ser usado tanto para classificação quanto para problemas preditivos de regressão. No entanto, é usado principalmente para problemas de previsão de classificação na indústria"
   ]
  },
  {
   "cell_type": "markdown",
   "metadata": {},
   "source": [
    "Criando instância KNeighborsClassifier"
   ]
  },
  {
   "cell_type": "code",
   "execution_count": 52,
   "metadata": {},
   "outputs": [
    {
     "data": {
      "text/plain": [
       "KNeighborsClassifier()"
      ]
     },
     "execution_count": 52,
     "metadata": {},
     "output_type": "execute_result"
    }
   ],
   "source": [
    "# Instânciando KNeighborsClassifier\n",
    "knn = KNeighborsClassifier()\n",
    "knn.fit(train_X, train_y)"
   ]
  },
  {
   "cell_type": "markdown",
   "metadata": {},
   "source": [
    "#### 5.2.1.1 Acurácia"
   ]
  },
  {
   "cell_type": "markdown",
   "metadata": {},
   "source": [
    "Acurácia da base de treinamento."
   ]
  },
  {
   "cell_type": "code",
   "execution_count": 53,
   "metadata": {},
   "outputs": [
    {
     "data": {
      "text/plain": [
       "0.9646953861840428"
      ]
     },
     "execution_count": 53,
     "metadata": {},
     "output_type": "execute_result"
    }
   ],
   "source": [
    "knn.score(train_X, train_y)"
   ]
  },
  {
   "cell_type": "markdown",
   "metadata": {},
   "source": [
    "Acurácia de previsão."
   ]
  },
  {
   "cell_type": "markdown",
   "metadata": {},
   "source": [
    "Fazendo a previsão dos dados utilizamos a função predict."
   ]
  },
  {
   "cell_type": "code",
   "execution_count": 54,
   "metadata": {},
   "outputs": [],
   "source": [
    "# Usamos o método predict() para prever os valores para os dados de teste.\n",
    "pred_knn = knn.predict(test_X)"
   ]
  },
  {
   "cell_type": "code",
   "execution_count": 55,
   "metadata": {},
   "outputs": [
    {
     "data": {
      "text/plain": [
       "0.952126077906631"
      ]
     },
     "execution_count": 55,
     "metadata": {},
     "output_type": "execute_result"
    }
   ],
   "source": [
    "# Acurácia de Previsão\n",
    "accuracy_score(test_y, pred_knn)"
   ]
  },
  {
   "cell_type": "markdown",
   "metadata": {},
   "source": [
    "#### 5.2.1.2. Analisando e validando os resultados obtidos - KNeighborsClassifier"
   ]
  },
  {
   "cell_type": "code",
   "execution_count": 56,
   "metadata": {},
   "outputs": [
    {
     "name": "stdout",
     "output_type": "stream",
     "text": [
      "Confusion Matrix:\n",
      "[[3100   40]\n",
      " [ 121  102]]\n",
      "Classification Report:\n",
      "              precision    recall  f1-score   support\n",
      "\n",
      "           0       0.96      0.99      0.97      3140\n",
      "           1       0.72      0.46      0.56       223\n",
      "\n",
      "    accuracy                           0.95      3363\n",
      "   macro avg       0.84      0.72      0.77      3363\n",
      "weighted avg       0.95      0.95      0.95      3363\n",
      "\n",
      "Accuracy: 0.952126077906631\n"
     ]
    }
   ],
   "source": [
    "result = confusion_matrix(test_y, pred_knn)\n",
    "print(\"Confusion Matrix:\")\n",
    "print(result)\n",
    "result1 = classification_report(test_y, pred_knn)\n",
    "print(\"Classification Report:\",)\n",
    "print (result1)\n",
    "result2 = accuracy_score(test_y,pred_knn)\n",
    "print(\"Accuracy:\",result2)"
   ]
  },
  {
   "cell_type": "markdown",
   "metadata": {},
   "source": [
    "Na coluna de Acurácia (accuracy), podemos ver o quanto o modelo acertou das previsões possíveis."
   ]
  },
  {
   "cell_type": "code",
   "execution_count": 76,
   "metadata": {},
   "outputs": [
    {
     "data": {
      "image/png": "[encoded data removed]",
      "text/plain": [
       "<Figure size 576x396 with 2 Axes>"
      ]
     },
     "metadata": {},
     "output_type": "display_data"
    }
   ],
   "source": [
    "# Instanciando o modelo de classificação e o objeto visualizer\n",
    "visualizer = ClassificationReport(knn, classes=['Won','Loss'])\n",
    "visualizer.fit(train_X, train_y) # adicionando o resultado do modelo no objeto visualizer\n",
    "visualizer.score(test_X, test_y) # adicionando resultados da base de teste\n",
    "g = visualizer.poof() # desenha o gráfico"
   ]
  },
  {
   "cell_type": "markdown",
   "metadata": {},
   "source": [
    "#### 5.2.1.3 Matriz de Confusão"
   ]
  },
  {
   "cell_type": "markdown",
   "metadata": {},
   "source": [
    "Dos 3140 valores o modelo previu como sendo classe 0, 3108 elementos foram classificados corretamente e 32 foi classificado como sendo classe 1, ou seja, nesse caso o modelo errou apenas 32 registros na previsão da classe 0."
   ]
  },
  {
   "cell_type": "code",
   "execution_count": 57,
   "metadata": {},
   "outputs": [
    {
     "name": "stdout",
     "output_type": "stream",
     "text": [
      "Predito     0    1   All\n",
      "Real                    \n",
      "0        3100   40  3140\n",
      "1         121  102   223\n",
      "All      3221  142  3363\n"
     ]
    }
   ],
   "source": [
    "# A matriz de confusão é uma tabela que mostra as frequências classificação para cada classe do modelo.\n",
    "print (pd.crosstab(test_y, pred_knn, rownames=['Real'], colnames=['Predito'], margins=True))"
   ]
  },
  {
   "cell_type": "markdown",
   "metadata": {},
   "source": [
    "#### 5.2.1.4 Otimizando o parâmetro k utilizando o GridSearch"
   ]
  },
  {
   "cell_type": "markdown",
   "metadata": {},
   "source": [
    "Gerando uma lista com valores de 1 a 25 para testar qual será o melhor valor para o parâmetro K.\n",
    "\n"
   ]
  },
  {
   "cell_type": "code",
   "execution_count": 58,
   "metadata": {},
   "outputs": [],
   "source": [
    "# Definindo a lista de valores.\n",
    "k_list = list(range(1,26))"
   ]
  },
  {
   "cell_type": "code",
   "execution_count": 59,
   "metadata": {},
   "outputs": [],
   "source": [
    "# Colocamos os valores em um dicionário\n",
    "params = dict(n_neighbors=k_list)"
   ]
  },
  {
   "cell_type": "markdown",
   "metadata": {},
   "source": [
    "Para instanciar o objeto GridSearch passamos o nosso modelo, a lista com os valores para o número de vizinhos, cv (número de dobras para a validação cruzada) e o scoring que é uma das métricas de avaliação dos modelos de classificação.\n"
   ]
  },
  {
   "cell_type": "code",
   "execution_count": 60,
   "metadata": {},
   "outputs": [],
   "source": [
    "# Instanciando o objeto GridSearch\n",
    "grid_knn = GridSearchCV(knn, params, cv=5, scoring='accuracy')\n"
   ]
  },
  {
   "cell_type": "markdown",
   "metadata": {},
   "source": [
    "Treinando o objeto"
   ]
  },
  {
   "cell_type": "code",
   "execution_count": 61,
   "metadata": {},
   "outputs": [
    {
     "data": {
      "text/plain": [
       "GridSearchCV(cv=5, estimator=KNeighborsClassifier(),\n",
       "             param_grid={'n_neighbors': [1, 2, 3, 4, 5, 6, 7, 8, 9, 10, 11, 12,\n",
       "                                         13, 14, 15, 16, 17, 18, 19, 20, 21, 22,\n",
       "                                         23, 24, 25]},\n",
       "             scoring='accuracy')"
      ]
     },
     "execution_count": 61,
     "metadata": {},
     "output_type": "execute_result"
    }
   ],
   "source": [
    "grid_knn.fit(X, y)\n"
   ]
  },
  {
   "cell_type": "code",
   "execution_count": 62,
   "metadata": {},
   "outputs": [
    {
     "name": "stdout",
     "output_type": "stream",
     "text": [
      "Melhores parâmetros {'n_neighbors': 1} com o valor de acurácia 0.9550365601567734 \n"
     ]
    }
   ],
   "source": [
    "print(\"Melhores parâmetros {} com o valor de acurácia {} \".format(grid_knn.best_params_,grid_knn.best_score_))\n"
   ]
  },
  {
   "cell_type": "code",
   "execution_count": 63,
   "metadata": {},
   "outputs": [
    {
     "data": {
      "text/html": [
       "<div>\n",
       "<style scoped>\n",
       "    .dataframe tbody tr th:only-of-type {\n",
       "        vertical-align: middle;\n",
       "    }\n",
       "\n",
       "    .dataframe tbody tr th {\n",
       "        vertical-align: top;\n",
       "    }\n",
       "\n",
       "    .dataframe thead th {\n",
       "        text-align: right;\n",
       "    }\n",
       "</style>\n",
       "<table border=\"1\" class=\"dataframe\">\n",
       "  <thead>\n",
       "    <tr style=\"text-align: right;\">\n",
       "      <th></th>\n",
       "      <th>mean_test_score</th>\n",
       "      <th>std_test_score</th>\n",
       "      <th>params</th>\n",
       "    </tr>\n",
       "  </thead>\n",
       "  <tbody>\n",
       "    <tr>\n",
       "      <th>0</th>\n",
       "      <td>0.955037</td>\n",
       "      <td>0.007479</td>\n",
       "      <td>{'n_neighbors': 1}</td>\n",
       "    </tr>\n",
       "    <tr>\n",
       "      <th>1</th>\n",
       "      <td>0.949594</td>\n",
       "      <td>0.006010</td>\n",
       "      <td>{'n_neighbors': 2}</td>\n",
       "    </tr>\n",
       "    <tr>\n",
       "      <th>2</th>\n",
       "      <td>0.951022</td>\n",
       "      <td>0.007253</td>\n",
       "      <td>{'n_neighbors': 3}</td>\n",
       "    </tr>\n",
       "    <tr>\n",
       "      <th>3</th>\n",
       "      <td>0.949237</td>\n",
       "      <td>0.004977</td>\n",
       "      <td>{'n_neighbors': 4}</td>\n",
       "    </tr>\n",
       "    <tr>\n",
       "      <th>4</th>\n",
       "      <td>0.947543</td>\n",
       "      <td>0.004903</td>\n",
       "      <td>{'n_neighbors': 5}</td>\n",
       "    </tr>\n",
       "    <tr>\n",
       "      <th>5</th>\n",
       "      <td>0.946383</td>\n",
       "      <td>0.003733</td>\n",
       "      <td>{'n_neighbors': 6}</td>\n",
       "    </tr>\n",
       "    <tr>\n",
       "      <th>6</th>\n",
       "      <td>0.945758</td>\n",
       "      <td>0.003670</td>\n",
       "      <td>{'n_neighbors': 7}</td>\n",
       "    </tr>\n",
       "    <tr>\n",
       "      <th>7</th>\n",
       "      <td>0.943706</td>\n",
       "      <td>0.001877</td>\n",
       "      <td>{'n_neighbors': 8}</td>\n",
       "    </tr>\n",
       "    <tr>\n",
       "      <th>8</th>\n",
       "      <td>0.943438</td>\n",
       "      <td>0.003132</td>\n",
       "      <td>{'n_neighbors': 9}</td>\n",
       "    </tr>\n",
       "    <tr>\n",
       "      <th>9</th>\n",
       "      <td>0.941208</td>\n",
       "      <td>0.003437</td>\n",
       "      <td>{'n_neighbors': 10}</td>\n",
       "    </tr>\n",
       "    <tr>\n",
       "      <th>10</th>\n",
       "      <td>0.941565</td>\n",
       "      <td>0.003622</td>\n",
       "      <td>{'n_neighbors': 11}</td>\n",
       "    </tr>\n",
       "    <tr>\n",
       "      <th>11</th>\n",
       "      <td>0.940762</td>\n",
       "      <td>0.003446</td>\n",
       "      <td>{'n_neighbors': 12}</td>\n",
       "    </tr>\n",
       "    <tr>\n",
       "      <th>12</th>\n",
       "      <td>0.940673</td>\n",
       "      <td>0.003917</td>\n",
       "      <td>{'n_neighbors': 13}</td>\n",
       "    </tr>\n",
       "    <tr>\n",
       "      <th>13</th>\n",
       "      <td>0.941030</td>\n",
       "      <td>0.003841</td>\n",
       "      <td>{'n_neighbors': 14}</td>\n",
       "    </tr>\n",
       "    <tr>\n",
       "      <th>14</th>\n",
       "      <td>0.940227</td>\n",
       "      <td>0.002861</td>\n",
       "      <td>{'n_neighbors': 15}</td>\n",
       "    </tr>\n",
       "    <tr>\n",
       "      <th>15</th>\n",
       "      <td>0.940048</td>\n",
       "      <td>0.002939</td>\n",
       "      <td>{'n_neighbors': 16}</td>\n",
       "    </tr>\n",
       "    <tr>\n",
       "      <th>16</th>\n",
       "      <td>0.940048</td>\n",
       "      <td>0.001751</td>\n",
       "      <td>{'n_neighbors': 17}</td>\n",
       "    </tr>\n",
       "    <tr>\n",
       "      <th>17</th>\n",
       "      <td>0.940673</td>\n",
       "      <td>0.003409</td>\n",
       "      <td>{'n_neighbors': 18}</td>\n",
       "    </tr>\n",
       "    <tr>\n",
       "      <th>18</th>\n",
       "      <td>0.940048</td>\n",
       "      <td>0.002625</td>\n",
       "      <td>{'n_neighbors': 19}</td>\n",
       "    </tr>\n",
       "    <tr>\n",
       "      <th>19</th>\n",
       "      <td>0.941119</td>\n",
       "      <td>0.003920</td>\n",
       "      <td>{'n_neighbors': 20}</td>\n",
       "    </tr>\n",
       "    <tr>\n",
       "      <th>20</th>\n",
       "      <td>0.940940</td>\n",
       "      <td>0.003073</td>\n",
       "      <td>{'n_neighbors': 21}</td>\n",
       "    </tr>\n",
       "    <tr>\n",
       "      <th>21</th>\n",
       "      <td>0.941743</td>\n",
       "      <td>0.004095</td>\n",
       "      <td>{'n_neighbors': 22}</td>\n",
       "    </tr>\n",
       "    <tr>\n",
       "      <th>22</th>\n",
       "      <td>0.941119</td>\n",
       "      <td>0.003869</td>\n",
       "      <td>{'n_neighbors': 23}</td>\n",
       "    </tr>\n",
       "    <tr>\n",
       "      <th>23</th>\n",
       "      <td>0.941386</td>\n",
       "      <td>0.004341</td>\n",
       "      <td>{'n_neighbors': 24}</td>\n",
       "    </tr>\n",
       "    <tr>\n",
       "      <th>24</th>\n",
       "      <td>0.941119</td>\n",
       "      <td>0.003817</td>\n",
       "      <td>{'n_neighbors': 25}</td>\n",
       "    </tr>\n",
       "  </tbody>\n",
       "</table>\n",
       "</div>"
      ],
      "text/plain": [
       "    mean_test_score  std_test_score               params\n",
       "0          0.955037        0.007479   {'n_neighbors': 1}\n",
       "1          0.949594        0.006010   {'n_neighbors': 2}\n",
       "2          0.951022        0.007253   {'n_neighbors': 3}\n",
       "3          0.949237        0.004977   {'n_neighbors': 4}\n",
       "4          0.947543        0.004903   {'n_neighbors': 5}\n",
       "5          0.946383        0.003733   {'n_neighbors': 6}\n",
       "6          0.945758        0.003670   {'n_neighbors': 7}\n",
       "7          0.943706        0.001877   {'n_neighbors': 8}\n",
       "8          0.943438        0.003132   {'n_neighbors': 9}\n",
       "9          0.941208        0.003437  {'n_neighbors': 10}\n",
       "10         0.941565        0.003622  {'n_neighbors': 11}\n",
       "11         0.940762        0.003446  {'n_neighbors': 12}\n",
       "12         0.940673        0.003917  {'n_neighbors': 13}\n",
       "13         0.941030        0.003841  {'n_neighbors': 14}\n",
       "14         0.940227        0.002861  {'n_neighbors': 15}\n",
       "15         0.940048        0.002939  {'n_neighbors': 16}\n",
       "16         0.940048        0.001751  {'n_neighbors': 17}\n",
       "17         0.940673        0.003409  {'n_neighbors': 18}\n",
       "18         0.940048        0.002625  {'n_neighbors': 19}\n",
       "19         0.941119        0.003920  {'n_neighbors': 20}\n",
       "20         0.940940        0.003073  {'n_neighbors': 21}\n",
       "21         0.941743        0.004095  {'n_neighbors': 22}\n",
       "22         0.941119        0.003869  {'n_neighbors': 23}\n",
       "23         0.941386        0.004341  {'n_neighbors': 24}\n",
       "24         0.941119        0.003817  {'n_neighbors': 25}"
      ]
     },
     "execution_count": 63,
     "metadata": {},
     "output_type": "execute_result"
    }
   ],
   "source": [
    "pd.DataFrame(grid_knn.cv_results_)[['mean_test_score', 'std_test_score', 'params']]"
   ]
  },
  {
   "cell_type": "markdown",
   "metadata": {},
   "source": [
    "Visualizando de forma Gráfica"
   ]
  },
  {
   "cell_type": "code",
   "execution_count": 64,
   "metadata": {},
   "outputs": [
    {
     "data": {
      "text/plain": [
       "<matplotlib.legend.Legend at 0x1dff1b91220>"
      ]
     },
     "execution_count": 64,
     "metadata": {},
     "output_type": "execute_result"
    },
    {
     "data": {
      "image/png": "[encoded data removed]",
      "text/plain": [
       "<Figure size 576x288 with 1 Axes>"
      ]
     },
     "metadata": {
      "needs_background": "light"
     },
     "output_type": "display_data"
    }
   ],
   "source": [
    "# Gráfico melhores parâmetros para K\n",
    "\n",
    "# Pega os valores apurados de acurácia média no modelo de teste\n",
    "scores = grid_knn.cv_results_['mean_test_score']\n",
    "\n",
    "fig = plt.figure(figsize=(8,4))\n",
    "eixo = fig.add_axes([0, 0, 1, 1])\n",
    "\n",
    "# Adicionando gráfico\n",
    "eixo.plot(k_list, scores, color= '#d5224a', lw=2, marker = 'o')\n",
    "\n",
    "# Adicionando cor de destaque para os valores de K maiores ou iguais a 2, esse valor foi apurado anteriormente em n_neighbors.\n",
    "k_list_aux = []\n",
    "scores_aux = []\n",
    "for i in range(0, len(k_list)):    \n",
    "    if k_list[i] >= 2:\n",
    "        k_list_aux.append(k_list[i])\n",
    "        scores_aux.append(scores[i])\n",
    "\n",
    "eixo.plot(k_list_aux, scores_aux, color= '#5c1e51', lw=2, marker = 'o')\n",
    "\n",
    "\n",
    "# Alterando Título e Labels\n",
    "eixo.set_title('Valores para K-Nearest Neighbor', fontsize=15, pad=20)\n",
    "eixo.set_ylabel('Acurácia')\n",
    "eixo.set_xlabel('K-vizinhos')\n",
    "\n",
    "# Adicionando Legenda\n",
    "eixo.legend(['Acurácia x K-Nearest Neighbor'], loc = 'lower right')\n"
   ]
  },
  {
   "cell_type": "code",
   "execution_count": null,
   "metadata": {},
   "outputs": [],
   "source": []
  },
  {
   "cell_type": "markdown",
   "metadata": {},
   "source": [
    "Como podemos ver no gráfico nossas taxas de erro tendem a ser minimizadas com um K valor de aproximadamente 1. Isso significa que 1 é uma escolha adequada para K que equilibra simplicidade e poder preditivo.\n",
    "\n",
    "No gráfico foi exibido em cor destacada apartir de K = 1, identificando de forma visual que a erros tendem a ser normalizados."
   ]
  },
  {
   "cell_type": "markdown",
   "metadata": {},
   "source": [
    "### 5.2.2. Random Forest Classifier"
   ]
  },
  {
   "cell_type": "markdown",
   "metadata": {},
   "source": [
    "Nessa seção será apresentado a utilização do algoritmo Random Forest Classifier para classificação dos dados."
   ]
  },
  {
   "cell_type": "markdown",
   "metadata": {},
   "source": [
    "A floresta aleatória é um algoritmo de aprendizado supervisionado que é usado tanto para classificação quanto para regressão. Porém, ele é usado principalmente para problemas de classificação. Como sabemos que uma floresta é formada por árvores e mais árvores significa floresta mais robusta. Da mesma forma, o algoritmo de floresta aleatório cria árvores de decisão em amostras de dados e, em seguida, obtém a previsão de cada uma delas e, finalmente, seleciona a melhor solução por meio de votação. É um método de conjunto melhor do que uma única árvore de decisão porque reduz o sobreajuste ao calcular a média do resultado."
   ]
  },
  {
   "cell_type": "markdown",
   "metadata": {},
   "source": [
    "Agora treinaremos o modelo com a classe RandomForestClassifier."
   ]
  },
  {
   "cell_type": "code",
   "execution_count": 65,
   "metadata": {},
   "outputs": [
    {
     "data": {
      "text/plain": [
       "RandomForestClassifier(n_estimators=50)"
      ]
     },
     "execution_count": 65,
     "metadata": {},
     "output_type": "execute_result"
    }
   ],
   "source": [
    "rfc = RandomForestClassifier(n_estimators=50)\n",
    "rfc.fit(train_X, train_y)"
   ]
  },
  {
   "cell_type": "markdown",
   "metadata": {},
   "source": [
    "#### 5.2.2.1 Acurácia"
   ]
  },
  {
   "cell_type": "markdown",
   "metadata": {},
   "source": [
    "Acurácia da base de treinamento."
   ]
  },
  {
   "cell_type": "code",
   "execution_count": 66,
   "metadata": {},
   "outputs": [
    {
     "data": {
      "text/plain": [
       "1.0"
      ]
     },
     "execution_count": 66,
     "metadata": {},
     "output_type": "execute_result"
    }
   ],
   "source": [
    "rfc.score(train_X, train_y)"
   ]
  },
  {
   "cell_type": "markdown",
   "metadata": {},
   "source": [
    "Fazendo as previsões"
   ]
  },
  {
   "cell_type": "code",
   "execution_count": 67,
   "metadata": {},
   "outputs": [],
   "source": [
    "pred_rfc = rfc.predict(test_X)"
   ]
  },
  {
   "cell_type": "markdown",
   "metadata": {},
   "source": [
    "#### 5.2.2.2. Analisando e validando os resultados obtidos - DecisionTreeClassifier"
   ]
  },
  {
   "cell_type": "code",
   "execution_count": 68,
   "metadata": {},
   "outputs": [
    {
     "name": "stdout",
     "output_type": "stream",
     "text": [
      "Confusion Matrix:\n",
      "[[3089   51]\n",
      " [ 104  119]]\n",
      "Classification Report:\n",
      "              precision    recall  f1-score   support\n",
      "\n",
      "           0       0.97      0.98      0.98      3140\n",
      "           1       0.70      0.53      0.61       223\n",
      "\n",
      "    accuracy                           0.95      3363\n",
      "   macro avg       0.83      0.76      0.79      3363\n",
      "weighted avg       0.95      0.95      0.95      3363\n",
      "\n",
      "Accuracy: 0.9539101992268808\n"
     ]
    }
   ],
   "source": [
    "result = confusion_matrix(test_y, pred_rfc)\n",
    "print(\"Confusion Matrix:\")\n",
    "print(result)\n",
    "result1 = classification_report(test_y, pred_rfc)\n",
    "print(\"Classification Report:\",)\n",
    "print (result1)\n",
    "result2 = accuracy_score(test_y,pred_rfc)\n",
    "print(\"Accuracy:\",result2)"
   ]
  },
  {
   "cell_type": "code",
   "execution_count": 78,
   "metadata": {},
   "outputs": [
    {
     "data": {
      "image/png": "[encoded data removed]",
      "text/plain": [
       "<Figure size 576x396 with 2 Axes>"
      ]
     },
     "metadata": {},
     "output_type": "display_data"
    }
   ],
   "source": [
    "# Instanciando o modelo de classificação e o objeto visualizer\n",
    "visualizer = ClassificationReport(rfc, classes=['Won','Loss'])\n",
    "visualizer.fit(train_X, train_y) # adicionando o resultado do modelo no objeto visualizer\n",
    "visualizer.score(test_X, test_y) # adicionando resultados da base de teste\n",
    "g = visualizer.poof() # desenha o gráfico"
   ]
  },
  {
   "cell_type": "markdown",
   "metadata": {},
   "source": [
    "#### 5.2.2.3. Matriz de Confusão"
   ]
  },
  {
   "cell_type": "markdown",
   "metadata": {},
   "source": [
    "Dos 3140 valores o modelo previu como sendo classe 0, 3096 elementos foram classificados corretamente e 44 foi classificado como sendo classe 1, ou seja, nesse caso o modelo errou apenas 44 registros na previsão da classe 0."
   ]
  },
  {
   "cell_type": "code",
   "execution_count": 69,
   "metadata": {},
   "outputs": [
    {
     "name": "stdout",
     "output_type": "stream",
     "text": [
      "Predito     0    1   All\n",
      "Real                    \n",
      "0        3089   51  3140\n",
      "1         104  119   223\n",
      "All      3193  170  3363\n"
     ]
    }
   ],
   "source": [
    "# A matriz de confusão é uma tabela que mostra as frequências classificação para cada classe do modelo.\n",
    "print (pd.crosstab(test_y, pred_rfc, rownames=['Real'], colnames=['Predito'], margins=True))"
   ]
  },
  {
   "cell_type": "code",
   "execution_count": 70,
   "metadata": {},
   "outputs": [
    {
     "data": {
      "text/plain": [
       "<matplotlib.legend.Legend at 0x1dfff8ab5e0>"
      ]
     },
     "execution_count": 70,
     "metadata": {},
     "output_type": "execute_result"
    },
    {
     "data": {
      "image/png": "[encoded data removed]",
      "text/plain": [
       "<Figure size 576x360 with 1 Axes>"
      ]
     },
     "metadata": {
      "needs_background": "light"
     },
     "output_type": "display_data"
    }
   ],
   "source": [
    "# Gráfico Grau de Importância dos atributos\n",
    "\n",
    "# Configurando gráfico\n",
    "fig = plt.figure(figsize=(8,5))\n",
    "eixo = fig.add_axes([0, 0, 1, 1])\n",
    "\n",
    "# Adicionando os Índices\n",
    "indice = np.arange(len(X.columns))\n",
    "\n",
    "eixo.barh(indice, rfc.feature_importances_, align='center', height=0.7,  tick_label=X.columns, color=[\"#d5224a\", '#f6a67e'])\n",
    "\n",
    "# Alterando Título e Labels\n",
    "eixo.set_title('Grau de Importância dos atributos', fontsize=15, pad=20)\n",
    "eixo.set_xlabel('Importância')\n",
    "eixo.set_ylabel('Atributo')\n",
    "\n",
    "eixo.set_yticks(indice)\n",
    "\n",
    "# Adicionando Legenda\n",
    "eixo.legend(['Grau de importância'], loc = 'lower right')"
   ]
  },
  {
   "cell_type": "markdown",
   "metadata": {},
   "source": [
    "Gráfico Curva ROC"
   ]
  },
  {
   "cell_type": "code",
   "execution_count": 71,
   "metadata": {},
   "outputs": [],
   "source": [
    "# Váriaveis para o modelo RandomForestClassifier\n",
    "y_proba_rfc = rfc.predict_proba(test_X)[:,1]\n",
    "fpr_rfc, tpr_rfc, thresholds = roc_curve(test_y, y_proba_rfc)"
   ]
  },
  {
   "cell_type": "code",
   "execution_count": 72,
   "metadata": {},
   "outputs": [],
   "source": [
    "# Váriaveis para o modelo KNeighborsClassifier\n",
    "y_proba_knn = knn.predict_proba(test_X)[:,1]\n",
    "fpr_knn, tpr_knn, thresholds = roc_curve(test_y, y_proba_knn)"
   ]
  },
  {
   "cell_type": "code",
   "execution_count": 73,
   "metadata": {},
   "outputs": [
    {
     "data": {
      "text/plain": [
       "<matplotlib.legend.Legend at 0x1dffa01b280>"
      ]
     },
     "execution_count": 73,
     "metadata": {},
     "output_type": "execute_result"
    },
    {
     "data": {
      "image/png": "[encoded data removed]",
      "text/plain": [
       "<Figure size 504x288 with 1 Axes>"
      ]
     },
     "metadata": {
      "needs_background": "light"
     },
     "output_type": "display_data"
    }
   ],
   "source": [
    "#Exibindo Gráfico Curva ROC\n",
    "\n",
    "# Configurando gráfico\n",
    "fig = plt.figure(figsize=(7,4))\n",
    "eixo = fig.add_axes([0, 0, 1, 1])\n",
    "\n",
    "eixo.plot(fpr_rfc, tpr_rfc, label='RandomForestClassifier', color= '#d5224a')\n",
    "eixo.plot(fpr_knn, tpr_knn, label='KNeighborsClassifier', color= '#5c1e51')\n",
    "\n",
    "# Alterando Título e Labels\n",
    "eixo.set_xlabel('False positive rate')\n",
    "eixo.set_ylabel('True positive rate')\n",
    "eixo.set_title('Curva ROC')\n",
    "\n",
    "# Adicionando Legenda\n",
    "eixo.legend(loc='best')"
   ]
  },
  {
   "cell_type": "code",
   "execution_count": 74,
   "metadata": {},
   "outputs": [
    {
     "data": {
      "text/plain": [
       "Text(0.5, 0, 'Quilometragem')"
      ]
     },
     "execution_count": 74,
     "metadata": {},
     "output_type": "execute_result"
    },
    {
     "data": {
      "image/png": "[encoded data removed]",
      "text/plain": [
       "<Figure size 504x288 with 1 Axes>"
      ]
     },
     "metadata": {
      "needs_background": "light"
     },
     "output_type": "display_data"
    }
   ],
   "source": [
    "\n",
    "# Gráfico Grau de Dispersão\n",
    "\n",
    "# Configurando gráfico\n",
    "fig = plt.figure(figsize=(7,4))\n",
    "eixo = fig.add_axes([0, 0, 1, 1])\n",
    "\n",
    "eixo.scatter(X['Odometer'],X['YearModel'], c=y)\n",
    "\n",
    "eixo.set_ylabel(\"Ano Modelo\")\n",
    "eixo.set_xlabel(\"Quilometragem\")\n"
   ]
  },
  {
   "cell_type": "code",
   "execution_count": null,
   "metadata": {},
   "outputs": [],
   "source": []
  }
 ],
 "metadata": {
  "kernelspec": {
   "display_name": "Python 3",
   "language": "python",
   "name": "python3"
  },
  "language_info": {
   "codemirror_mode": {
    "name": "ipython",
    "version": 3
   },
   "file_extension": ".py",
   "mimetype": "text/x-python",
   "name": "python",
   "nbconvert_exporter": "python",
   "pygments_lexer": "ipython3",
   "version": "3.8.5"
  }
 },
 "nbformat": 4,
 "nbformat_minor": 4
}
